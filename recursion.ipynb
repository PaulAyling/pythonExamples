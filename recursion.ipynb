{
 "metadata": {
  "language_info": {
   "codemirror_mode": {
    "name": "ipython",
    "version": 3
   },
   "file_extension": ".py",
   "mimetype": "text/x-python",
   "name": "python",
   "nbconvert_exporter": "python",
   "pygments_lexer": "ipython3",
   "version": "3.8.5"
  },
  "orig_nbformat": 2,
  "kernelspec": {
   "name": "python385jvsc74a57bd0dca0ade3e726a953b501b15e8e990130d2b7799f14cfd9f4271676035ebe5511",
   "display_name": "Python 3.8.5 64-bit ('base': conda)"
  }
 },
 "nbformat": 4,
 "nbformat_minor": 2,
 "cells": [
  {
   "cell_type": "code",
   "execution_count": null,
   "metadata": {},
   "outputs": [],
   "source": [
    "# recursion examples\n",
    "import sys\n",
    "print(\"Old recursion limit is:\",sys.getrecursionlimit())\n",
    "sys.setrecursionlimit(1000)\n",
    "print(\"Current recursion limit is:\",sys.getrecursionlimit())\n",
    "\n",
    "def greet(i):\n",
    "    print('hello', i)\n",
    "    greet(i+1)"
   ]
  },
  {
   "cell_type": "code",
   "execution_count": null,
   "metadata": {},
   "outputs": [],
   "source": [
    "greet(0)"
   ]
  },
  {
   "cell_type": "code",
   "execution_count": null,
   "metadata": {},
   "outputs": [],
   "source": [
    "# create a factorial\n",
    "def fact(n):\n",
    "    if n ==0:\n",
    "        return 1\n",
    "    return n * fact(n-1)\n",
    "\n",
    "print('Factorial:', fact(3))"
   ]
  },
  {
   "cell_type": "code",
   "execution_count": 1,
   "metadata": {},
   "outputs": [],
   "source": [
    "    # RECURSIVE FUNCTION TO UNDERSTAND\n",
    "    def all_perms(elements):\n",
    "        if len(elements) <=1:\n",
    "            yield elements\n",
    "        else:\n",
    "            # RECURSION \n",
    "            for perm in all_perms(elements[1:]):\n",
    "                for i in range(len(elements)):\n",
    "                    yield perm[:i] + elements[0:1] + perm[i:]  "
   ]
  },
  {
   "cell_type": "code",
   "execution_count": null,
   "metadata": {},
   "outputs": [],
   "source": [
    "# RUN THIS\n",
    "# elements = ('AA','cc')\n",
    "# print('Number of Permutations:',fact(2))\n",
    "# my_generator = all_perms(elements)\n",
    "# print(next(my_generator))\n",
    "# print(next(my_generator))\n"
   ]
  },
  {
   "cell_type": "code",
   "execution_count": 3,
   "metadata": {},
   "outputs": [],
   "source": [
    "    def pair_are_similar(a, b):\n",
    "        # pair_are_similar == true when a == b and only one char needs to change\n",
    "        nbr_non_matches = 0\n",
    "        for n in range(len(a)):\n",
    "            if a[n] != b[n]:\n",
    "                nbr_non_matches = nbr_non_matches +1\n",
    "            else:\n",
    "                pass\n",
    "        if nbr_non_matches != 1:\n",
    "            return False\n",
    "        else:\n",
    "             return True            \n",
    "    def row_items_similar(my_list):\n",
    "        #all pairs in a given list are \"similar\"\n",
    "        nbr_similar = 0\n",
    "        list_length = len(my_list)\n",
    "        for n in range(list_length - 1):\n",
    "            first_value = my_list[n]\n",
    "            second_value = my_list[n+1]\n",
    "            if pair_are_similar(first_value, second_value) == False:\n",
    "                # print(first_value,second_value, 'found flase')\n",
    "                return False\n",
    "            else:\n",
    "                pass\n",
    "        return True"
   ]
  },
  {
   "cell_type": "code",
   "execution_count": 6,
   "metadata": {},
   "outputs": [
    {
     "output_type": "stream",
     "name": "stdout",
     "text": [
      "Current Element: ('AA', 'cc') Row Items Similar: False\nCurrent Element: ('cc', 'AA') Row Items Similar: False\n"
     ]
    }
   ],
   "source": [
    " \n",
    " # RUN THIS\n",
    "elements = ('AA','cc')\n",
    "# my_generator = all_perms(elements)\n",
    "# print(next(my_generator))\n",
    "# print(next(my_generator))\n",
    " \n",
    " def evaluate_permutations(elements):\n",
    "     myGenerator = all_perms(elements)\n",
    "     curr_Row = next(myGenerator)\n",
    "     answer = row_items_similar(curr_Row)\n",
    "     print('Current Element:',curr_Row, \"Row Items Similar:\",  answer)\n",
    "     curr_Row = next(myGenerator)\n",
    "     answer = row_items_similar(curr_Row)\n",
    "     print('Current Element:',curr_Row, \"Row Items Similar:\",  answer)\n",
    "\n",
    "\n",
    "\n",
    "\n",
    "evaluate_permutations(elements)\n"
   ]
  },
  {
   "cell_type": "code",
   "execution_count": 15,
   "metadata": {},
   "outputs": [
    {
     "output_type": "stream",
     "name": "stdout",
     "text": [
      "A\nB\nC\n"
     ]
    }
   ],
   "source": [
    "myList = ('A','B','C')\n",
    "def incrementNumbers(myList):\n",
    "    for item in myList:\n",
    "        print(item)\n",
    "\n",
    "incrementNumbers(myList)"
   ]
  },
  {
   "cell_type": "code",
   "execution_count": 2,
   "metadata": {},
   "outputs": [
    {
     "output_type": "stream",
     "name": "stdout",
     "text": [
      "0\n1\n2\n"
     ]
    }
   ],
   "source": [
    "myList = ('A','B','C')\n",
    "def incrementNumbers(myList):\n",
    "    for idx,val in enumerate(myList):\n",
    "        print(idx)\n",
    "incrementNumbers(myList)"
   ]
  },
  {
   "cell_type": "code",
   "execution_count": null,
   "metadata": {},
   "outputs": [],
   "source": []
  }
 ]
}