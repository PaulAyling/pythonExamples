{
 "metadata": {
  "language_info": {
   "codemirror_mode": {
    "name": "ipython",
    "version": 3
   },
   "file_extension": ".py",
   "mimetype": "text/x-python",
   "name": "python",
   "nbconvert_exporter": "python",
   "pygments_lexer": "ipython3",
   "version": "3.8.5"
  },
  "orig_nbformat": 2,
  "kernelspec": {
   "name": "python385jvsc74a57bd0dca0ade3e726a953b501b15e8e990130d2b7799f14cfd9f4271676035ebe5511",
   "display_name": "Python 3.8.5 64-bit ('base': conda)"
  }
 },
 "nbformat": 4,
 "nbformat_minor": 2,
 "cells": [
  {
   "cell_type": "code",
   "execution_count": 7,
   "metadata": {},
   "outputs": [],
   "source": [
    "def countSumOfTwoRepresentations2(n, l, r):  \n",
    "    # sumVal = n\n",
    "    # lowerVal = l\n",
    "    # upperVal = r\n",
    "\n",
    "    def get_possible_values(l, r, n):\n",
    "        if n > (l+r):\n",
    "            l2 = n - r\n",
    "        else:\n",
    "            l2 = l\n",
    "        print('l2',l2)\n",
    "        print('r+1',r+1)\n",
    "        return list(range(l2, r+1))\n",
    "        \n",
    "    def foundMatch(a,b,n):\n",
    "        if a + b == n:\n",
    "            # print('a:',a,'b:',b,'==',a+b)\n",
    "            return True\n",
    "\n",
    "    def foundMatch_n_a_plus_a(n, l, r):\n",
    "        # eg a = 2 therefore r = 4\n",
    "        if n % 2 == 0:\n",
    "            # print('n div 2 is modulus')\n",
    "            if n / 2 >= l and n / 2 <= r:\n",
    "                return True\n",
    "        else:\n",
    "            return False\n",
    "\n",
    "    def updateMatchData(possible_values,usedValues, matchVal):\n",
    "        possible_values.remove(matchVal)\n",
    "        usedValues.append(matchVal)\n",
    "        print('updateMatchData:matchVal',matchVal)\n",
    "\n",
    "    def findRemainingProducts(possible_values):\n",
    "        #from the sub list find all A + b = r and count them\n",
    "        \n",
    "\n",
    "    def findA_B(l,r):\n",
    "        possible_values = get_possible_values(l, r,n)\n",
    "        print('possible_values',possible_values)\n",
    "        usedValues = []\n",
    "        if foundMatch_n_a_plus_a(n, l, r) == True:\n",
    "            divisor = int(n/2)\n",
    "            print('Divisor',divisor)\n",
    "            updateMatchData(possible_values,usedValues, divisor)\n",
    "        for a in possible_values:\n",
    "            for b in possible_values: \n",
    "                if foundMatch(a,b,n) == True:\n",
    "                    updateMatchData(possible_values,usedValues, b)\n",
    "        print('usedValues',usedValues) \n",
    "        print('usedValues',usedValues)\n",
    "        return len(usedValues)\n",
    "    return findA_B(l,r)"
   ]
  },
  {
   "cell_type": "code",
   "execution_count": 8,
   "metadata": {},
   "outputs": [
    {
     "output_type": "stream",
     "name": "stdout",
     "text": [
      "l2 2\nr+1 5\npossible_values [2, 3, 4]\nDivisor 3\nupdateMatchData:matchVal 3\nupdateMatchData:matchVal 4\nusedValues [3, 4]\nusedValues [3, 4]\n"
     ]
    },
    {
     "output_type": "execute_result",
     "data": {
      "text/plain": [
       "2"
      ]
     },
     "metadata": {},
     "execution_count": 8
    }
   ],
   "source": [
    "# TEST\n",
    "n = 6\n",
    "l = 2\n",
    "r = 4\n",
    "\n",
    "countSumOfTwoRepresentations2(n, l, r)"
   ]
  },
  {
   "cell_type": "code",
   "execution_count": null,
   "metadata": {},
   "outputs": [],
   "source": []
  },
  {
   "cell_type": "code",
   "execution_count": 1,
   "metadata": {},
   "outputs": [],
   "source": [
    "# Method # 2\n",
    "import math\n",
    " \n",
    "\n",
    "def countSumOfTwoRepresentations2(n, l, r): \n",
    "    def get_possible_values(l, r, n):\n",
    "            if n > (l+r):\n",
    "                l2 = n - r\n",
    "            else:\n",
    "                l2 = l\n",
    "            print('l2:',l2)\n",
    "            print('r+1:',r+1)\n",
    "            result =  list(range(l2, r+1))\n",
    "            print('possible values:', result)\n",
    "            return result\n",
    "\n",
    "    def finda(cur_val):\n",
    "        if cur_val + r >= n:\n",
    "\n",
    "            return True\n",
    "        else:\n",
    "            return False\n",
    "\n",
    "    def mapa(n, l, r ):\n",
    "        possible_values = get_possible_values(l, r, n)\n",
    "        result =  filter(finda,possible_values)\n",
    "        validSums = list(result)\n",
    "        print('validSums',validSums)\n",
    "        # only need half the results and round up (to include a+a combination)\n",
    "        result = math.ceil(len(validSums)/2)\n",
    "        return result\n",
    "\n",
    "    return mapa(n, l, r )\n",
    "\n"
   ]
  },
  {
   "cell_type": "code",
   "execution_count": 5,
   "metadata": {},
   "outputs": [
    {
     "output_type": "stream",
     "name": "stdout",
     "text": [
      "l2: 9\nr+1: 11\npossible values: [9, 10]\nvalidSums [9, 10]\n"
     ]
    },
    {
     "output_type": "execute_result",
     "data": {
      "text/plain": [
       "1"
      ]
     },
     "metadata": {},
     "execution_count": 5
    }
   ],
   "source": [
    "# TEST\n",
    "n = 10\n",
    "l = 9\n",
    "r = 10\n",
    "# n = 6\n",
    "# l = 2\n",
    "# r = 4\n",
    "countSumOfTwoRepresentations2(n, l, r)"
   ]
  },
  {
   "cell_type": "code",
   "execution_count": null,
   "metadata": {},
   "outputs": [],
   "source": []
  }
 ]
}