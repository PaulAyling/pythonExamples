{
 "metadata": {
  "language_info": {
   "codemirror_mode": {
    "name": "ipython",
    "version": 3
   },
   "file_extension": ".py",
   "mimetype": "text/x-python",
   "name": "python",
   "nbconvert_exporter": "python",
   "pygments_lexer": "ipython3",
   "version": "3.8.5"
  },
  "orig_nbformat": 2,
  "kernelspec": {
   "name": "python385jvsc74a57bd0dca0ade3e726a953b501b15e8e990130d2b7799f14cfd9f4271676035ebe5511",
   "display_name": "Python 3.8.5 64-bit ('base': conda)"
  }
 },
 "nbformat": 4,
 "nbformat_minor": 2,
 "cells": [
  {
   "cell_type": "code",
   "execution_count": null,
   "metadata": {},
   "outputs": [],
   "source": [
    "# I just made my own MAP function\n",
    "myList = [1,2,3,4,5,6]\n",
    "def printIterable(item):\n",
    "    print(item,'----with som other stuff')\n",
    "\n",
    "def myMap(myFunction,iterable):\n",
    "    result = []\n",
    "    for n in range(len(iterable)):\n",
    "        myFunction(n)\n",
    "\n",
    "myMap(printIterable,myList)"
   ]
  },
  {
   "cell_type": "code",
   "execution_count": 19,
   "metadata": {},
   "outputs": [
    {
     "output_type": "stream",
     "name": "stdout",
     "text": [
      "Results using the inbult reduction method\n15\nresult 3\nresult 5\nresult 6\nResults using our amazing Reducer\n6\n"
     ]
    }
   ],
   "source": [
    "# DIY REDUCER COMPARISON\n",
    "# OUR INPUTS\n",
    "exList=[5,4,3,2,1]\n",
    "def do_sum(x1, x2): return x1 + x2 \n",
    "\n",
    "# USING THE REDUCER METHOD\n",
    "from functools import reduce\n",
    "inbuiltReduction = reduce(do_sum, exList)\n",
    "print('Results using the inbult reduction method')\n",
    "print(inbuiltReduction)\n",
    "\n",
    "# USING OUR OWN REDUCER METHOD\n",
    "def myReduce(myFunction, myList, initial=0):\n",
    "    result = 0\n",
    "    for n in range(initial,len(myList)):\n",
    "       result = myFunction(result, myList[n])\n",
    "       print('result',result)\n",
    "    return result\n",
    "ourReduction = myReduce(do_sum, exList,2)\n",
    "print('Results using our amazing Reducer')\n",
    "print(ourReduction)"
   ]
  },
  {
   "cell_type": "code",
   "execution_count": 1,
   "metadata": {},
   "outputs": [
    {
     "output_type": "stream",
     "name": "stdout",
     "text": [
      "USING Standard filter: The filtered vowels are: ['a', 'e', 'i', 'o']\n"
     ]
    },
    {
     "output_type": "error",
     "ename": "TypeError",
     "evalue": "list indices must be integers or slices, not str",
     "traceback": [
      "\u001b[0;31m---------------------------------------------------------------------------\u001b[0m",
      "\u001b[0;31mTypeError\u001b[0m                                 Traceback (most recent call last)",
      "\u001b[0;32m<ipython-input-1-fe4349f6940c>\u001b[0m in \u001b[0;36m<module>\u001b[0;34m\u001b[0m\n\u001b[1;32m     32\u001b[0m \u001b[0;34m\u001b[0m\u001b[0m\n\u001b[1;32m     33\u001b[0m \u001b[0;34m\u001b[0m\u001b[0m\n\u001b[0;32m---> 34\u001b[0;31m \u001b[0mmyfilteredVowels\u001b[0m \u001b[0;34m=\u001b[0m \u001b[0mmyFilterLc\u001b[0m\u001b[0;34m(\u001b[0m\u001b[0mfilter_vowels\u001b[0m\u001b[0;34m,\u001b[0m\u001b[0mletters\u001b[0m\u001b[0;34m)\u001b[0m\u001b[0;34m\u001b[0m\u001b[0;34m\u001b[0m\u001b[0m\n\u001b[0m\u001b[1;32m     35\u001b[0m \u001b[0mprint\u001b[0m\u001b[0;34m(\u001b[0m\u001b[0;34m'USING: Our own filter function'\u001b[0m\u001b[0;34m,\u001b[0m\u001b[0mmyfilteredVowels\u001b[0m\u001b[0;34m)\u001b[0m\u001b[0;34m\u001b[0m\u001b[0;34m\u001b[0m\u001b[0m\n\u001b[1;32m     36\u001b[0m \u001b[0;34m\u001b[0m\u001b[0m\n",
      "\u001b[0;32m<ipython-input-1-fe4349f6940c>\u001b[0m in \u001b[0;36mmyFilterLc\u001b[0;34m(filterFunction, iterable)\u001b[0m\n\u001b[1;32m     28\u001b[0m \u001b[0;31m# newlist = [x for x in fruits if \"a\" in x]\u001b[0m\u001b[0;34m\u001b[0m\u001b[0;34m\u001b[0m\u001b[0;34m\u001b[0m\u001b[0m\n\u001b[1;32m     29\u001b[0m \u001b[0;32mdef\u001b[0m \u001b[0mmyFilterLc\u001b[0m\u001b[0;34m(\u001b[0m\u001b[0mfilterFunction\u001b[0m\u001b[0;34m,\u001b[0m \u001b[0miterable\u001b[0m\u001b[0;34m)\u001b[0m\u001b[0;34m:\u001b[0m\u001b[0;34m\u001b[0m\u001b[0;34m\u001b[0m\u001b[0m\n\u001b[0;32m---> 30\u001b[0;31m     \u001b[0mresult\u001b[0m \u001b[0;34m=\u001b[0m \u001b[0;34m[\u001b[0m\u001b[0mn\u001b[0m \u001b[0;32mfor\u001b[0m \u001b[0mn\u001b[0m \u001b[0;32min\u001b[0m \u001b[0miterable\u001b[0m \u001b[0;32mif\u001b[0m \u001b[0mfilterFunction\u001b[0m\u001b[0;34m(\u001b[0m\u001b[0miterable\u001b[0m\u001b[0;34m[\u001b[0m\u001b[0mn\u001b[0m\u001b[0;34m]\u001b[0m\u001b[0;34m)\u001b[0m \u001b[0;34m==\u001b[0m \u001b[0;32mTrue\u001b[0m \u001b[0;32min\u001b[0m \u001b[0mn\u001b[0m\u001b[0;34m]\u001b[0m\u001b[0;34m\u001b[0m\u001b[0;34m\u001b[0m\u001b[0m\n\u001b[0m\u001b[1;32m     31\u001b[0m     \u001b[0;32mreturn\u001b[0m \u001b[0mresult\u001b[0m\u001b[0;34m\u001b[0m\u001b[0;34m\u001b[0m\u001b[0m\n\u001b[1;32m     32\u001b[0m \u001b[0;34m\u001b[0m\u001b[0m\n",
      "\u001b[0;32m<ipython-input-1-fe4349f6940c>\u001b[0m in \u001b[0;36m<listcomp>\u001b[0;34m(.0)\u001b[0m\n\u001b[1;32m     28\u001b[0m \u001b[0;31m# newlist = [x for x in fruits if \"a\" in x]\u001b[0m\u001b[0;34m\u001b[0m\u001b[0;34m\u001b[0m\u001b[0;34m\u001b[0m\u001b[0m\n\u001b[1;32m     29\u001b[0m \u001b[0;32mdef\u001b[0m \u001b[0mmyFilterLc\u001b[0m\u001b[0;34m(\u001b[0m\u001b[0mfilterFunction\u001b[0m\u001b[0;34m,\u001b[0m \u001b[0miterable\u001b[0m\u001b[0;34m)\u001b[0m\u001b[0;34m:\u001b[0m\u001b[0;34m\u001b[0m\u001b[0;34m\u001b[0m\u001b[0m\n\u001b[0;32m---> 30\u001b[0;31m     \u001b[0mresult\u001b[0m \u001b[0;34m=\u001b[0m \u001b[0;34m[\u001b[0m\u001b[0mn\u001b[0m \u001b[0;32mfor\u001b[0m \u001b[0mn\u001b[0m \u001b[0;32min\u001b[0m \u001b[0miterable\u001b[0m \u001b[0;32mif\u001b[0m \u001b[0mfilterFunction\u001b[0m\u001b[0;34m(\u001b[0m\u001b[0miterable\u001b[0m\u001b[0;34m[\u001b[0m\u001b[0mn\u001b[0m\u001b[0;34m]\u001b[0m\u001b[0;34m)\u001b[0m \u001b[0;34m==\u001b[0m \u001b[0;32mTrue\u001b[0m \u001b[0;32min\u001b[0m \u001b[0mn\u001b[0m\u001b[0;34m]\u001b[0m\u001b[0;34m\u001b[0m\u001b[0;34m\u001b[0m\u001b[0m\n\u001b[0m\u001b[1;32m     31\u001b[0m     \u001b[0;32mreturn\u001b[0m \u001b[0mresult\u001b[0m\u001b[0;34m\u001b[0m\u001b[0;34m\u001b[0m\u001b[0m\n\u001b[1;32m     32\u001b[0m \u001b[0;34m\u001b[0m\u001b[0m\n",
      "\u001b[0;31mTypeError\u001b[0m: list indices must be integers or slices, not str"
     ]
    }
   ],
   "source": [
    "\n",
    "# DIY FILTER\n",
    "# list of letters\n",
    "letters = ['a', 'b', 'd', 'e', 'i', 'j', 'o']\n",
    "\n",
    "# A. Using the standard FILTER function & a filter function filters out the vowels\n",
    "def filter_vowels(letter):\n",
    "    vowels = ['a', 'e', 'i', 'o', 'u']\n",
    "    if(letter in vowels):\n",
    "        return True\n",
    "    else:\n",
    "        return False\n",
    "filtered_vowels = filter(filter_vowels, letters)\n",
    "# print(list(filtered_vowels))\n",
    "print('USING Standard filter: The filtered vowels are:',list(filtered_vowels))\n",
    "# for vowel in filtered_vowels:\n",
    "#     print(vowel)\n",
    "\n",
    "# B. Create our own version of the standard filter and use it with the filter function above\n",
    "def myFilter(filterFunction, iterable):\n",
    "    result = []\n",
    "    for n in range(len(iterable)):\n",
    "        if filterFunction(iterable[n]) == True:\n",
    "            result.append(iterable[n])\n",
    "    return result\n",
    "\n",
    "#C. Using a list comprehension\n",
    "def myFilterLc(filterFunction, iterable):\n",
    "    result = [n for n in iterable if filterFunction(n) == True]\n",
    "    return result\n",
    "\n",
    "myfilteredVowels = myFilterLc(filter_vowels,letters)\n",
    "print('USING: Our own filter function',myfilteredVowels)\n",
    "\n"
   ]
  },
  {
   "cell_type": "code",
   "execution_count": null,
   "metadata": {},
   "outputs": [],
   "source": []
  }
 ]
}