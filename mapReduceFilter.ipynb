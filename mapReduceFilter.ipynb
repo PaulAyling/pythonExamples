{
 "metadata": {
  "language_info": {
   "codemirror_mode": {
    "name": "ipython",
    "version": 3
   },
   "file_extension": ".py",
   "mimetype": "text/x-python",
   "name": "python",
   "nbconvert_exporter": "python",
   "pygments_lexer": "ipython3",
   "version": "3.8.5"
  },
  "orig_nbformat": 2,
  "kernelspec": {
   "name": "python385jvsc74a57bd0dca0ade3e726a953b501b15e8e990130d2b7799f14cfd9f4271676035ebe5511",
   "display_name": "Python 3.8.5 64-bit ('base': conda)"
  }
 },
 "nbformat": 4,
 "nbformat_minor": 2,
 "cells": [
  {
   "cell_type": "code",
   "execution_count": 4,
   "metadata": {},
   "outputs": [
    {
     "output_type": "stream",
     "name": "stdout",
     "text": [
      "0 ----with som other stuff\n1 ----with som other stuff\n2 ----with som other stuff\n3 ----with som other stuff\n4 ----with som other stuff\n5 ----with som other stuff\n"
     ]
    }
   ],
   "source": [
    "# I just made my own MAP function\n",
    "myList = [1,2,3,4,5,6]\n",
    "def printIterable(item):\n",
    "    print(item,'----with som other stuff')\n",
    "\n",
    "def myMap(myFunction,iterable):\n",
    "    result = []\n",
    "    for n in range(len(iterable)):\n",
    "        myFunction(n)\n",
    "\n",
    "myMap(printIterable,myList)"
   ]
  },
  {
   "cell_type": "code",
   "execution_count": 5,
   "metadata": {},
   "outputs": [
    {
     "output_type": "execute_result",
     "data": {
      "text/plain": [
       "10"
      ]
     },
     "metadata": {},
     "execution_count": 5
    }
   ],
   "source": [
    "# DIY REDUCE\n",
    "# FIRST LETS RUDE REDUCE\n",
    "\n",
    "# Method I \n",
    "from functools import reduce\n",
    "\n",
    "myList=[5,4,3,2,1]\n",
    "\n",
    "def do_sum(x1, x2): return x1 + x2 \n",
    "def anotherFunc(a1, a2, a3) return a1 +a2 +a3\n",
    "\n",
    "reduce(do_sum, [1, 2, 3, 4])\n",
    "# or create the reduce fucntion myself\n",
    "\n"
   ]
  },
  {
   "cell_type": "code",
   "execution_count": 12,
   "metadata": {},
   "outputs": [
    {
     "output_type": "stream",
     "name": "stdout",
     "text": [
      "The filtered vowels are:\na\ne\ni\no\n"
     ]
    }
   ],
   "source": [
    "\n",
    "# DIY FILTER\n",
    "# list of letters\n",
    "letters = ['a', 'b', 'd', 'e', 'i', 'j', 'o']\n",
    "\n",
    "# function that filters vowels\n",
    "def filter_vowels(letter):\n",
    "    vowels = ['a', 'e', 'i', 'o', 'u']\n",
    "    if(letter in vowels):\n",
    "        return True\n",
    "    else:\n",
    "        return False\n",
    "\n",
    "filtered_vowels = filter(filter_vowels, letters)\n",
    "# print(list(filtered_vowels))\n",
    "\n",
    "print('The filtered vowels are:')\n",
    "for vowel in filtered_vowels:\n",
    "    print(vowel)"
   ]
  },
  {
   "cell_type": "code",
   "execution_count": null,
   "metadata": {},
   "outputs": [],
   "source": []
  }
 ]
}