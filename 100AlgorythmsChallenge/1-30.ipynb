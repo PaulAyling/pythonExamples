{
 "metadata": {
  "language_info": {
   "codemirror_mode": {
    "name": "ipython",
    "version": 3
   },
   "file_extension": ".py",
   "mimetype": "text/x-python",
   "name": "python",
   "nbconvert_exporter": "python",
   "pygments_lexer": "ipython3",
   "version": "3.8.5"
  },
  "orig_nbformat": 2,
  "kernelspec": {
   "name": "python3",
   "display_name": "Python 3.8.5 64-bit",
   "metadata": {
    "interpreter": {
     "hash": "15ed2ef4f556d75dd1bb7019e7b9b22e3a5d11b308a4f690ac640aaffb821b72"
    }
   }
  }
 },
 "nbformat": 4,
 "nbformat_minor": 2,
 "cells": [
  {
   "cell_type": "code",
   "execution_count": 2,
   "metadata": {},
   "outputs": [
    {
     "output_type": "stream",
     "name": "stdout",
     "text": [
      "currDiff 17\nmaxDiff 17\ncurrDiff 3\nmaxDiff 17\ncurrDiff 5\nmaxDiff 17\ncurrDiff 98\nmaxDiff 17\nMAX DIFF: 98\n"
     ]
    }
   ],
   "source": [
    "# https://www.udemy.com/course/100-algorithms-challenge/learn/lecture/10514558?start=0#overview\n",
    "# 25. Array Maximal Adjacent Difference\n",
    "\n",
    "myArr=[20,3,6,1]\n",
    "def absMaxDiff(myArr):\n",
    "    maxDiff = abs(myArr[0]-myArr[1])\n",
    "    for n in range(len(myArr)-1):\n",
    "        currDiff = abs(myArr[n]-myArr[n+1])\n",
    "        print('currDiff', currDiff)\n",
    "        print('maxDiff', maxDiff)\n",
    "        if currDiff > maxDiff:\n",
    "            maxDiff = currDiff\n",
    "    return maxDiff\n",
    "\n",
    "\n",
    "myArr=[20,3,6,1,99]\n",
    "print('MAX DIFF:', absMaxDiff(myArr))"
   ]
  },
  {
   "cell_type": "code",
   "execution_count": null,
   "metadata": {},
   "outputs": [],
   "source": []
  },
  {
   "cell_type": "code",
   "execution_count": 57,
   "metadata": {},
   "outputs": [
    {
     "output_type": "stream",
     "name": "stdout",
     "text": [
      "imput: [1, 2, 3, 4]\nExpected: [-1,1,2,3]\n[]\n--------------------------\nbuffer [1]\n--------------------------\nbuffer [2, 1]\nUpdated result: n: 1\n--------------------------\nbuffer [3, 2, 1]\nUpdated result: n: 2\n--------------------------\nbuffer [4, 3, 2, 1]\nUpdated result: n: 3\n"
     ]
    },
    {
     "output_type": "execute_result",
     "data": {
      "text/plain": [
       "[-1, 1, 2, 3]"
      ]
     },
     "metadata": {},
     "execution_count": 57
    }
   ],
   "source": [
    "#26 Array Previous lless\n",
    "#example \n",
    "#   inputArr =  [3,  5, 3, 4, 5 ] \n",
    "#   result =    [-1, 3,-1, 2, 4 ]\n",
    "\n",
    "# pos 2\n",
    "# value at pos2 = 3\n",
    "# find the first value from left that has less and populate it in the result\n",
    "\n",
    "def arrayPrevLess(myArr):\n",
    "    result = []\n",
    "    buffer = []\n",
    "    print(buffer)\n",
    "    for item in myArr:\n",
    "        buffer.reverse()\n",
    "        buffer.append(item)\n",
    "        buffer.reverse()\n",
    "        print('--------------------------')\n",
    "        print('buffer', buffer)\n",
    "        for n in buffer:\n",
    "            if buffer[0] > n:\n",
    "                print('Updated result:', 'n:',n)\n",
    "\n",
    "                result.append(n)\n",
    "                \n",
    "                break\n",
    "            elif buffer[-1] == n and len(result) < len(buffer):\n",
    "                result.append(-1)\n",
    "                break\n",
    "\n",
    "    return result\n",
    "    \n",
    "myArr=[1,2,3,4]  \n",
    "print('imput:', myArr)      \n",
    "print('Expected:', '[-1,1,2,3]')      \n",
    "arrayPrevLess(myArr)\n"
   ]
  },
  {
   "cell_type": "code",
   "execution_count": 7,
   "metadata": {},
   "outputs": [
    {
     "output_type": "stream",
     "name": "stdout",
     "text": [
      "[1, 9, 4, 9, 5, 9]\n"
     ]
    }
   ],
   "source": [
    "# 27 Array Replace\n",
    "def makeSubstition(n):\n",
    "    if n == elmToReplace:\n",
    "        return substitution\n",
    "    else:\n",
    "        return n\n",
    "\n",
    "def arrayReplace(myArray,elmToReplace,substitution):\n",
    "    result = map(makeSubstition,myArray)\n",
    "    return result\n",
    "myArray = [1,3,4,3,5,3]\n",
    "elmToReplace = 3\n",
    "substitution = 9\n",
    "print(list(arrayReplace(myArray,elmToReplace,substitution)))"
   ]
  },
  {
   "cell_type": "code",
   "execution_count": 14,
   "metadata": {},
   "outputs": [
    {
     "output_type": "stream",
     "name": "stdout",
     "text": [
      "1\n4\n9\n"
     ]
    }
   ],
   "source": [
    "def perfect_square():\n",
    "    num = 1\n",
    "    while(num <= 10):\n",
    "        yield (num * num)\n",
    "        num += 1\n",
    "square = perfect_square()\n",
    "print(next(square))\n",
    "print(next(square))\n",
    "print(next(square))"
   ]
  },
  {
   "cell_type": "code",
   "execution_count": 32,
   "metadata": {},
   "outputs": [
    {
     "output_type": "stream",
     "name": "stdout",
     "text": [
      "0\n1\n2\n"
     ]
    }
   ],
   "source": [
    "#28 Avoid Obsticals\n",
    "# for a given array\n",
    "# find the min jumo length to jump all obsticals\n",
    "\n",
    "\n",
    "\n",
    "def generateJumps(n):\n",
    "    num = 1\n",
    "    while(num <= 1000):\n",
    "        yield num*n\n",
    "        num += 1\n",
    "\n",
    "def minJump(myArray):\n",
    "    # sort myArray\n",
    "    sorted(myArray)\n",
    "    for n in range(len(myArray)):\n",
    "        print(n)\n",
    "        if n != myArray[n]:\n",
    "            \n",
    "\n",
    "           \n",
    "        \n",
    "\n",
    "sequenceItems = generateJumps(1)\n",
    "# print(next(sequenceItems))\n",
    "# print(next(sequenceItems))\n",
    "# print(next(sequenceItems))\n",
    "\n",
    "myArray = [2,4,6]# [1,3,5] = 2\n",
    "#myArray=[2,3,6]# [1,4,8] = 4\n",
    "minJump(myArray)"
   ]
  },
  {
   "cell_type": "code",
   "execution_count": 58,
   "metadata": {},
   "outputs": [
    {
     "output_type": "stream",
     "name": "stdout",
     "text": [
      "[2, 4, 6]\n[0, 0, 2, 0, 4, 0, 6]\n"
     ]
    }
   ],
   "source": [
    "def createLineWithGaps(myArray):\n",
    "    fullLine = []\n",
    "    for n in range(myArray[-1]+1):\n",
    "        if n in myArray:\n",
    "            fullLine.append(n)\n",
    "        else:\n",
    "            fullLine.append(0)\n",
    "    return fullLine\n",
    "\n",
    "# def minHop(myArray):\n",
    "#     arrSorted = sorted(myArray)\n",
    "#     line_with_gaps = ()\n",
    "#     print('len',len(myArray))\n",
    "#     for item in range(myArray):\n",
    "#         print('item:',item)\n",
    "#         result = map(goodHops,myArray)\n",
    "#         print(list(result))\n",
    "myArray = [2,4,6]\n",
    "# minHop(myArray)\n",
    "print(myArray)\n",
    "print(createLineWithGaps(myArray))\n",
    "\n",
    "2 != 2\n",
    "2 != 2 + 2\n",
    "2 != 2 + 2 + 2\n"
   ]
  },
  {
   "cell_type": "code",
   "execution_count": 61,
   "metadata": {},
   "outputs": [
    {
     "output_type": "stream",
     "name": "stdout",
     "text": [
      "[1, 2, 6, 7, 8]\n"
     ]
    }
   ],
   "source": [
    "def removeArrayPart(inputArray, l, r):\n",
    "    del inputArray[l:r]\n",
    "    print(inputArray)\n",
    "inputArray = [1,2,3,4,5,6,7,8]\n",
    "l=2\n",
    "r=5\n",
    "removeArrayPart(inputArray, l, r)"
   ]
  },
  {
   "cell_type": "code",
   "execution_count": 93,
   "metadata": {},
   "outputs": [],
   "source": [
    "def replaceMiddle(arr):\n",
    "    # get middle\n",
    "    def arrIsOdd(arr):\n",
    "        if len(arr) % 2 == 0:\n",
    "            return False\n",
    "        else:\n",
    "            return True\n",
    "    def returnMiddle(arr):\n",
    "        if arrIsOdd(arr):\n",
    "            print(arr)\n",
    "            return arr\n",
    "        else:\n",
    "            print('Even')\n",
    "            mid_pos1 = int(len(arr)/2)-1\n",
    "            mid_pos2 = int(len(arr)/2)\n",
    "            middle = [arr[mid_pos1] +arr[mid_pos2]]\n",
    "            result = arr[:mid_pos1] + middle + arr[mid_pos2+1:]  \n",
    "            print(result )        \n",
    "    return returnMiddle(arr)\n",
    "    "
   ]
  },
  {
   "cell_type": "code",
   "execution_count": 95,
   "metadata": {},
   "outputs": [
    {
     "output_type": "stream",
     "name": "stdout",
     "text": [
      "[1, 2, 3]\n"
     ]
    }
   ],
   "source": [
    "arr = [1,2,3]\n",
    "replaceMiddle(arr)"
   ]
  },
  {
   "cell_type": "code",
   "execution_count": 2,
   "metadata": {},
   "outputs": [],
   "source": [
    "def isMAC48Address(inputString):\n",
    "    if len(inputString)!=17:\n",
    "        return False\n",
    "    \n",
    "    inputStringSplit = inputString.split('-')\n",
    "    \n",
    "    if len(inputStringSplit)!=6:\n",
    "        return False\n",
    "    # need to change to a while validString= True\n",
    "    for i in range(0,len(inputStringSplit)):\n",
    "        print('i:',i)\n",
    "        print('len(inputStringSplit)',len(inputStringSplit))\n",
    "        if len(inputStringSplit[i])!=2:\n",
    "            return False\n",
    "\n",
    "\n",
    "        if ((\"0\"<=inputStringSplit[i][0]<=\"9\" or \"A\"<=inputStringSplit[i][0]<=\"F\") and (\"0\"<=inputStringSplit[i][1]<=\"9\" or \"A\"<=inputStringSplit[i][1]<=\"F\")):\n",
    "            \n",
    "            \n",
    "                return True\n",
    "        \n",
    "    else:\n",
    "        return False"
   ]
  },
  {
   "cell_type": "code",
   "execution_count": 3,
   "metadata": {},
   "outputs": [
    {
     "output_type": "stream",
     "name": "stdout",
     "text": [
      "i: 0\nlen(inputStringSplit) 6\n"
     ]
    },
    {
     "output_type": "execute_result",
     "data": {
      "text/plain": [
       "True"
      ]
     },
     "metadata": {},
     "execution_count": 3
    }
   ],
   "source": [
    "inputString = '12-34-56-78-9A-BG'\n",
    "isMAC48Address(inputString)\n"
   ]
  },
  {
   "cell_type": "code",
   "execution_count": null,
   "metadata": {},
   "outputs": [],
   "source": []
  },
  {
   "cell_type": "code",
   "execution_count": 46,
   "metadata": {},
   "outputs": [
    {
     "output_type": "stream",
     "name": "stdout",
     "text": [
      "inputPair ['1', '2']\nTrue\n"
     ]
    }
   ],
   "source": [
    "def pairIsHex(inputPair):\n",
    "    print('inputPair',inputPair)\n",
    "    if ((\"0\"<=inputPair[0]<=\"9\" or \"A\"<=inputPair[0]<=\"F\") and (\"0\"<=inputPair[1]<=\"9\" or \"A\"<=inputPair[1]<=\"F\")):\n",
    "        return True\n",
    "    else:\n",
    "        return False\n",
    "\n",
    "inputPair = [\"1\",\"2\"]\n",
    "print(pairIsHex(inputPair))"
   ]
  },
  {
   "cell_type": "code",
   "execution_count": 51,
   "metadata": {},
   "outputs": [],
   "source": [
    "def isMAC48Address(inputString):\n",
    "    def pairIsHex(inputPair):\n",
    "        if ((\"0\"<=inputPair[0]<=\"9\" or \"A\"<=inputPair[0]<=\"F\") and (\"0\"<=inputPair[1]<=\"9\" or \"A\"<=inputPair[1]<=\"F\")):\n",
    "            return True\n",
    "        else:\n",
    "            return False\n",
    "\n",
    "    def validInputString(inputString):\n",
    "        if len(inputString)!=17:\n",
    "            return False\n",
    "    #PROGRAM\n",
    "    #split string\n",
    "    inputStringSplit = inputString.split('-')\n",
    "\n",
    "    if len(inputStringSplit)!=6:\n",
    "        return False\n",
    "    for i in range(0,len(inputStringSplit)):\n",
    "        if len(inputStringSplit[i])!=2:\n",
    "            return False\n",
    "        if  pairIsHex(inputStringSplit[i]) == False:\n",
    "            return False\n",
    "        if  pairIsHex(inputStringSplit[i]) == True and len(inputStringSplit) == i+1:\n",
    "            return True   \n",
    "    else:\n",
    "        return False"
   ]
  },
  {
   "cell_type": "code",
   "execution_count": 53,
   "metadata": {},
   "outputs": [
    {
     "output_type": "stream",
     "name": "stdout",
     "text": [
      "i: 0\nlen(inputStringSplit) 6\ninputPair Z1\npairIsHex(inputStringSplit[i]) False\ninputPair Z1\ni: 1\nlen(inputStringSplit) 6\ninputPair 1B\npairIsHex(inputStringSplit[i]) True\ninputPair 1B\ni: 2\nlen(inputStringSplit) 6\ninputPair 63\npairIsHex(inputStringSplit[i]) True\ninputPair 63\ni: 3\nlen(inputStringSplit) 6\ninputPair 84\npairIsHex(inputStringSplit[i]) True\ninputPair 84\ni: 4\nlen(inputStringSplit) 6\ninputPair 45\npairIsHex(inputStringSplit[i]) True\ninputPair 45\ni: 5\nlen(inputStringSplit) 6\ninputPair E6\npairIsHex(inputStringSplit[i]) True\ninputPair E6\n-------------------------------------\nSTRING VALID\ni: 5\nlen(inputStringSplit) 6\n"
     ]
    },
    {
     "output_type": "execute_result",
     "data": {
      "text/plain": [
       "True"
      ]
     },
     "metadata": {},
     "execution_count": 53
    }
   ],
   "source": [
    "inputString = 'Z1-1B-63-84-45-E6'\n",
    "isMAC48Address(inputString)"
   ]
  },
  {
   "cell_type": "code",
   "execution_count": 94,
   "metadata": {},
   "outputs": [
    {
     "output_type": "error",
     "ename": "IndentationError",
     "evalue": "unindent does not match any outer indentation level (<tokenize>, line 12)",
     "traceback": [
      "\u001b[0;36m  File \u001b[0;32m\"<tokenize>\"\u001b[0;36m, line \u001b[0;32m12\u001b[0m\n\u001b[0;31m    for l in range(a_length):\u001b[0m\n\u001b[0m    ^\u001b[0m\n\u001b[0;31mIndentationError\u001b[0m\u001b[0;31m:\u001b[0m unindent does not match any outer indentation level\n"
     ]
    }
   ],
   "source": [
    "def stringsConstruction(a, b):\n",
    "    targetWord = list(a)\n",
    "    a_length = len(a)\n",
    "    lettersToUse = list(b)\n",
    "    lettersLeft = list(b)\n",
    "    startingLetterCount = len(b)\n",
    "    wordsFound = 0\n",
    "    print('targetWord:',targetWord)\n",
    "    print('lettersToUse:',lettersToUse)\n",
    "    while len(lettersToUse) <1 or \n",
    "            print('================================')\n",
    "        for l in range(a_length):\n",
    "            print('--------')\n",
    "            print('| targetWord:#',n,'Val:',lettersToUse[n],'| lettersToUse:#',l,'Val:',targetWord[n] )\n",
    "            if targetWord[n][l] == lettersToUse[n]:\n",
    "                wordsFound =+1\n",
    "                print()\n",
    "                lettersToUse.remove(targetWord[n])\n",
    "                print('letters Left:',lettersToUse)\n",
    "          \n",
    "a = 'ab'\n",
    "b = 'aabab'\n",
    "stringsConstruction(a, b)\n",
    "\n",
    "\n",
    "\n",
    "\n",
    "\n",
    "\n"
   ]
  },
  {
   "cell_type": "code",
   "execution_count": null,
   "metadata": {},
   "outputs": [],
   "source": []
  },
  {
   "cell_type": "code",
   "execution_count": 93,
   "metadata": {},
   "outputs": [
    {
     "output_type": "stream",
     "name": "stdout",
     "text": [
      "dict_A {'a': 1, 'b': 1}\ndict_B {'a': 1, 'b': 3, 'c': 2}\nValue: a Count: 1.0\nValue: b Count: 3.0\n"
     ]
    },
    {
     "output_type": "error",
     "ename": "UnboundLocalError",
     "evalue": "local variable 'minn' referenced before assignment",
     "traceback": [
      "\u001b[0;31m---------------------------------------------------------------------------\u001b[0m",
      "\u001b[0;31mUnboundLocalError\u001b[0m                         Traceback (most recent call last)",
      "\u001b[0;32m<ipython-input-93-5daa500d0433>\u001b[0m in \u001b[0;36m<module>\u001b[0;34m\u001b[0m\n\u001b[1;32m     24\u001b[0m \u001b[0mA\u001b[0m \u001b[0;34m=\u001b[0m \u001b[0;34m'ab'\u001b[0m\u001b[0;34m\u001b[0m\u001b[0;34m\u001b[0m\u001b[0m\n\u001b[1;32m     25\u001b[0m \u001b[0mB\u001b[0m \u001b[0;34m=\u001b[0m \u001b[0;34m'abcbcb'\u001b[0m\u001b[0;34m\u001b[0m\u001b[0;34m\u001b[0m\u001b[0m\n\u001b[0;32m---> 26\u001b[0;31m \u001b[0mstringsConstruction\u001b[0m\u001b[0;34m(\u001b[0m\u001b[0mA\u001b[0m\u001b[0;34m,\u001b[0m \u001b[0mB\u001b[0m\u001b[0;34m)\u001b[0m\u001b[0;34m\u001b[0m\u001b[0;34m\u001b[0m\u001b[0m\n\u001b[0m",
      "\u001b[0;32m<ipython-input-93-5daa500d0433>\u001b[0m in \u001b[0;36mstringsConstruction\u001b[0;34m(A, B)\u001b[0m\n\u001b[1;32m     16\u001b[0m         \u001b[0mprint\u001b[0m\u001b[0;34m(\u001b[0m\u001b[0;34m'Value:'\u001b[0m\u001b[0;34m,\u001b[0m\u001b[0mx\u001b[0m\u001b[0;34m,\u001b[0m\u001b[0;34m'Count:'\u001b[0m\u001b[0;34m,\u001b[0m\u001b[0mr\u001b[0m\u001b[0;34m)\u001b[0m\u001b[0;34m\u001b[0m\u001b[0;34m\u001b[0m\u001b[0m\n\u001b[1;32m     17\u001b[0m \u001b[0;34m\u001b[0m\u001b[0m\n\u001b[0;32m---> 18\u001b[0;31m     \u001b[0;32mif\u001b[0m \u001b[0mr\u001b[0m\u001b[0;34m<\u001b[0m\u001b[0mminn\u001b[0m\u001b[0;34m:\u001b[0m\u001b[0;34m\u001b[0m\u001b[0;34m\u001b[0m\u001b[0m\n\u001b[0m\u001b[1;32m     19\u001b[0m         \u001b[0mminn\u001b[0m\u001b[0;34m=\u001b[0m\u001b[0mr\u001b[0m\u001b[0;34m\u001b[0m\u001b[0;34m\u001b[0m\u001b[0m\n\u001b[1;32m     20\u001b[0m     \u001b[0mprint\u001b[0m\u001b[0;34m(\u001b[0m\u001b[0;34m'Total Number of times A is in B:'\u001b[0m\u001b[0;34m,\u001b[0m \u001b[0mint\u001b[0m\u001b[0;34m(\u001b[0m\u001b[0mminn\u001b[0m\u001b[0;34m)\u001b[0m\u001b[0;34m)\u001b[0m\u001b[0;34m\u001b[0m\u001b[0;34m\u001b[0m\u001b[0m\n",
      "\u001b[0;31mUnboundLocalError\u001b[0m: local variable 'minn' referenced before assignment"
     ]
    }
   ],
   "source": [
    "def stringsConstruction(A, B):\n",
    "    dict_A = {} # target value\n",
    "    dict_B = {} \n",
    "    def createDictionary(myString):\n",
    "        result = {}\n",
    "        for x in myString:\n",
    "            result[x]=result.get(x,0)+1\n",
    "        return result\n",
    "    dict_A = createDictionary(A)\n",
    "    dict_B = createDictionary(B)\n",
    "    print('dict_A',dict_A)\n",
    "    print('dict_B',dict_B)\n",
    "    matches = {}\n",
    "    for x in A:\n",
    "        r = dict_B.get(x,0)/dict_A[x]\n",
    "        print('Value:',x,'Count:',r)\n",
    "    \n",
    "    if r<minn:\n",
    "        minn=r\n",
    "    print('Total Number of times A is in B:', int(minn))\n",
    "    return minn \n",
    "\n",
    "\n",
    "A = 'ab'\n",
    "B = 'abcbcb'\n",
    "stringsConstruction(A, B)"
   ]
  },
  {
   "cell_type": "code",
   "execution_count": 72,
   "metadata": {},
   "outputs": [
    {
     "output_type": "execute_result",
     "data": {
      "text/plain": [
       "{'p': 1,\n",
       " 'a': 1,\n",
       " 'u': 1,\n",
       " 'l': 1,\n",
       " ' ': 3,\n",
       " 'i': 1,\n",
       " 's': 2,\n",
       " 't': 2,\n",
       " 'h': 1,\n",
       " 'e': 2,\n",
       " 'b': 1}"
      ]
     },
     "metadata": {},
     "execution_count": 72
    }
   ],
   "source": [
    "    def createDictionary(myString):\n",
    "        result = {}\n",
    "        for x in myString:\n",
    "            result[x]=result.get(x,0)+1\n",
    "        return result\n",
    "\n",
    "    myString = 'paul is the best'\n",
    "    createDictionary(myString)"
   ]
  },
  {
   "cell_type": "code",
   "execution_count": 96,
   "metadata": {},
   "outputs": [
    {
     "output_type": "execute_result",
     "data": {
      "text/plain": [
       "2.0"
      ]
     },
     "metadata": {},
     "execution_count": 96
    }
   ],
   "source": [
    "def stringsConstruction(A, B):\n",
    "    dA = {}\n",
    "    dB={}\n",
    "    for x in A:\n",
    "        dA[x]=dA.get(x,0)+1\n",
    "    for x in B:\n",
    "        dB[x]=dB.get(x,0)+1\n",
    "        minn = 9999\n",
    "\n",
    "\n",
    "        \n",
    "    for x in A:\n",
    "        r = dB.get(x,0)/dA[x]\n",
    "    if r<minn:\n",
    "        minn=r\n",
    "    return minn\n",
    "\n",
    "A = 'ab'\n",
    "B = 'aaabab'\n",
    "stringsConstruction(A, B)"
   ]
  },
  {
   "cell_type": "code",
   "execution_count": 25,
   "metadata": {},
   "outputs": [
    {
     "output_type": "stream",
     "name": "stdout",
     "text": [
      "dict_A {'a': 1, 'b': 1}\ndict_B {'a': 2, 'b': 3, 'c': 2}\nr: 2.0 minn 90000\nTotal Number of times A is in B: 2\n"
     ]
    },
    {
     "output_type": "execute_result",
     "data": {
      "text/plain": [
       "2.0"
      ]
     },
     "metadata": {},
     "execution_count": 25
    }
   ],
   "source": [
    "def stringsConstruction(A, B):\n",
    "    def createDictionary(myString):\n",
    "        # create a dictionary that counts occurence of chars in a string\n",
    "        result = {}\n",
    "        for x in myString: #a\n",
    "            #A. get val with a as key\n",
    "            #B. get current value or zero if value is none\n",
    "            #C. incriment value\n",
    "                 #A.           #B.   #C \n",
    "            result[x]=result.get(x,0)+1\n",
    "        return result\n",
    "\n",
    "    dict_A = createDictionary(A)\n",
    "    dict_B = createDictionary(B)\n",
    "    print('dict_A',dict_A)\n",
    "    print('dict_B',dict_B)\n",
    "    matches = {}\n",
    "    minn = 90000\n",
    "    for x in A:\n",
    "        r = dict_B.get(x,0)/dict_A[x]\n",
    "        # print('Value:',x,'Count r :',r)\n",
    "    \n",
    "        if r<minn:\n",
    "            print('r:',r, 'minn',minn)\n",
    "            minn=r\n",
    "    print('Total Number of times A is in B:', int(minn))\n",
    "    return int(minn)\n",
    "\n",
    "a =  \"ab\"\n",
    "b =  \"abcbcba\"\n",
    "stringsConstruction(a, b)\n",
    "\n",
    "\n",
    "# dict_A {'a': 1, 'b': 1}\n",
    "# dict_B {'a': 2, 'b': 3, 'c': 2}\n",
    "# dict_A {'a': 3, 'b': 1}\n",
    "# dict_B {'a': 2, 'b': 3, 'c': 2}\n"
   ]
  },
  {
   "cell_type": "code",
   "execution_count": null,
   "metadata": {},
   "outputs": [],
   "source": []
  },
  {
   "cell_type": "code",
   "execution_count": 8,
   "metadata": {},
   "outputs": [
    {
     "output_type": "stream",
     "name": "stdout",
     "text": [
      "x: a\nx: b\nx: b\n"
     ]
    },
    {
     "output_type": "execute_result",
     "data": {
      "text/plain": [
       "{'a': 1, 'b': 2}"
      ]
     },
     "metadata": {},
     "execution_count": 8
    }
   ],
   "source": [
    "def createDictionary(myString):\n",
    "        # create a dictionary that counts occurence of chars in a string\n",
    "        result = {}\n",
    "        for x in myString: #a\n",
    "            print('x:',x)\n",
    "            result[x]=result.get(x,0)+1\n",
    "            #A. get val with a as key\n",
    "            #B. get current value or zero if value is none\n",
    "            #C. incriment value\n",
    "                 #A.                 #B.  #C \n",
    "            result[\"a\"]=result.get(\"a\",0)+1\n",
    "        return result\n",
    "\n",
    "myString = 'abb'\n",
    "createDictionary(myString)"
   ]
  },
  {
   "cell_type": "code",
   "execution_count": 6,
   "metadata": {},
   "outputs": [],
   "source": [
    "\n"
   ]
  },
  {
   "cell_type": "code",
   "execution_count": null,
   "metadata": {},
   "outputs": [],
   "source": [
    "result = {}\n",
    "result.get(x,0)+1\n",
    "            \n",
    "\n",
    "myString = 'abb'\n",
    "createDictionary(myString)\n",
    "\n",
    "print('result.get(x,0)+1',result.get(x,0)+1)"
   ]
  },
  {
   "cell_type": "code",
   "execution_count": 33,
   "metadata": {},
   "outputs": [
    {
     "output_type": "stream",
     "name": "stdout",
     "text": [
      "False\n"
     ]
    }
   ],
   "source": [
    "def evaluateString(string1, string2):\n",
    "    if string1 > string2:\n",
    "        return True\n",
    "    else:\n",
    "        return False\n",
    "\n",
    "string1 = 'ab'\n",
    "string2 = 'ab'\n",
    "print(evaluateString(string1, string2))\n"
   ]
  },
  {
   "cell_type": "code",
   "execution_count": 35,
   "metadata": {},
   "outputs": [
    {
     "output_type": "stream",
     "name": "stdout",
     "text": [
      "False\n"
     ]
    }
   ],
   "source": [
    "def isUnstablePair(filename1, filename2):\n",
    "    #1 identify if the files match without case\n",
    "    # Assume \n",
    "\n",
    "    upperfilename1 = filename1.upper()\n",
    "    lowerfilename1 = filename1.lower()\n",
    "    \n",
    "    if upperfilename1<filename2 and lowerfilename1>filename2:\n",
    "        return True\n",
    "    else:\n",
    "        return False\n",
    "\n",
    "filename1= \"fdsAs\"\n",
    "filename2= \"dzdw\"        \n",
    "print(isUnstablePair(filename1, filename2))"
   ]
  },
  {
   "cell_type": "code",
   "execution_count": 41,
   "metadata": {},
   "outputs": [],
   "source": [
    "def isSubstitutionCipher(string1, string2):\n",
    "    string1count = []\n",
    "    string2count = []\n",
    "    for i in range(0,len(string1)):\n",
    "        string1count.append(string1.count(string1[i]))\n",
    "        print('string1count',string1count)\n",
    "    for i in range(0,len(string2)):\n",
    "        string2count.append(string2.count(string2[i]))\n",
    "        print('string2count',string1count)\n",
    "    \n",
    "    for i in range(0,len(string1count)):\n",
    "        if string1count.count(string1count[i])!=string2count.count(string1count[i]):\n",
    "            return False\n",
    "    \n",
    "    return True"
   ]
  },
  {
   "cell_type": "code",
   "execution_count": 43,
   "metadata": {},
   "outputs": [
    {
     "output_type": "stream",
     "name": "stdout",
     "text": [
      "string1count [1]\nstring1count [1, 1]\nstring1count [1, 1, 1]\nstring2count [1, 1, 1]\nstring2count [1, 1, 1]\nstring2count [1, 1, 1]\n"
     ]
    },
    {
     "output_type": "execute_result",
     "data": {
      "text/plain": [
       "True"
      ]
     },
     "metadata": {},
     "execution_count": 43
    }
   ],
   "source": [
    " string1 = 'abc'\n",
    " string2 = 'bcf'\n",
    " isSubstitutionCipher(string1, string2)"
   ]
  },
  {
   "cell_type": "code",
   "execution_count": 53,
   "metadata": {},
   "outputs": [
    {
     "output_type": "stream",
     "name": "stdout",
     "text": [
      "bish_x 5\nbish_y 3\npawn_x 1\npawn_y 1\n"
     ]
    }
   ],
   "source": [
    "def bishopAndPawn(bishop, pawn):\n",
    "    board = {'a':1,'b':2,'c':3,'d':4,'e':5,'f':6,'g':7,'h':8}\n",
    "        #return (converter[chessRef[0]],chessRef[1])\n",
    "    bish_x = board[bishop[0]]\n",
    "    bish_y = bishop[1]\n",
    "    pawn_x = board[pawn[0]]\n",
    "    pawn_y = pawn[1]\n",
    "#    x y\n",
    "# E5 5,5 sm: 10\n",
    "# C5 3,5 sm: 8\n",
    "# D4 4,4 sm: 8 -- Bish\n",
    "# C3 3,3 sm: 6 -- pawn\n",
    "# E3 5,3 sm: 8 \n",
    "    print('bish_x',bish_x)\n",
    "    print('bish_y',bish_y)\n",
    "    print('pawn_x',pawn_x)\n",
    "    print('pawn_y',pawn_y)\n",
    "\n",
    "    if bish_x + bish_y == pawn_x + pawn_y or bis_x + pawn_y == bish_y + pawn_x:\n",
    "     # 4      +    4  ==   5    +   3     or  4    +    3   == 4      +   5  \n",
    "     # 4.     +.   4. ==.  3.   +.  3.    or  4.   +    3.  == 4.     +   3\n",
    "        return True\n",
    "    else:\n",
    "        return False\n",
    "\n",
    "\n",
    "\n",
    "\n",
    "bishop = 'e3'\n",
    "pawn = 'a1'\n",
    "bishopAndPawn(bishop, pawn)"
   ]
  },
  {
   "cell_type": "code",
   "execution_count": null,
   "metadata": {},
   "outputs": [],
   "source": []
  }
 ]
}