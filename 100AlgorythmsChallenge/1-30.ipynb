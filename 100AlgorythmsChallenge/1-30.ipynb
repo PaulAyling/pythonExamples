{
 "metadata": {
  "language_info": {
   "codemirror_mode": {
    "name": "ipython",
    "version": 3
   },
   "file_extension": ".py",
   "mimetype": "text/x-python",
   "name": "python",
   "nbconvert_exporter": "python",
   "pygments_lexer": "ipython3",
   "version": "3.8.5"
  },
  "orig_nbformat": 2,
  "kernelspec": {
   "name": "python385jvsc74a57bd0dca0ade3e726a953b501b15e8e990130d2b7799f14cfd9f4271676035ebe5511",
   "display_name": "Python 3.8.5 64-bit ('base': conda)"
  }
 },
 "nbformat": 4,
 "nbformat_minor": 2,
 "cells": [
  {
   "cell_type": "code",
   "execution_count": 2,
   "metadata": {},
   "outputs": [
    {
     "output_type": "stream",
     "name": "stdout",
     "text": [
      "currDiff 17\nmaxDiff 17\ncurrDiff 3\nmaxDiff 17\ncurrDiff 5\nmaxDiff 17\ncurrDiff 98\nmaxDiff 17\nMAX DIFF: 98\n"
     ]
    }
   ],
   "source": [
    "# https://www.udemy.com/course/100-algorithms-challenge/learn/lecture/10514558?start=0#overview\n",
    "# 25. Array Maximal Adjacent Difference\n",
    "\n",
    "myArr=[20,3,6,1]\n",
    "def absMaxDiff(myArr):\n",
    "    maxDiff = abs(myArr[0]-myArr[1])\n",
    "    for n in range(len(myArr)-1):\n",
    "        currDiff = abs(myArr[n]-myArr[n+1])\n",
    "        print('currDiff', currDiff)\n",
    "        print('maxDiff', maxDiff)\n",
    "        if currDiff > maxDiff:\n",
    "            maxDiff = currDiff\n",
    "    return maxDiff\n",
    "\n",
    "\n",
    "myArr=[20,3,6,1,99]\n",
    "print('MAX DIFF:', absMaxDiff(myArr))"
   ]
  },
  {
   "cell_type": "code",
   "execution_count": null,
   "metadata": {},
   "outputs": [],
   "source": []
  },
  {
   "cell_type": "code",
   "execution_count": 47,
   "metadata": {},
   "outputs": [
    {
     "output_type": "stream",
     "name": "stdout",
     "text": [
      "INPUT: [1, 2]\n[]\n--------------------------\nbuffer [1]\ncomparison operator: 1\nlen(buffer) 1\nlen(result) 0\nlen(result+1) 1\nRESULT: [-1]\n--------------------------\nbuffer [2, 1]\ncomparison operator: 2\nlen(buffer) 2\nlen(result) 1\nlen(result+1) 2\nRESULT: [-1, -1]\ncomparison operator: 2\nlen(buffer) 2\nlen(result) 2\nlen(result+1) 3\nfound smaller\nT len(result) 3\nRESULT: [-1, -1, 1]\n"
     ]
    },
    {
     "output_type": "execute_result",
     "data": {
      "text/plain": [
       "[-1, -1, 1]"
      ]
     },
     "metadata": {},
     "execution_count": 47
    }
   ],
   "source": [
    "#26 Array Previous lless\n",
    "#example \n",
    "#   inputArr =  [3,  5, 3, 4, 5 ] \n",
    "#   result =    [-1, 3,-1, 2, 4 ]\n",
    "\n",
    "# pos 2\n",
    "# value at pos2 = 3\n",
    "# find the first value from left that has less and populate it in the result\n",
    "\n",
    "def changeVal(a):\n",
    "    pass\n",
    "    \n",
    "\n",
    "def arrayPrevLess(myArr):\n",
    "    print('INPUT:',myArr)\n",
    "    result = []\n",
    "    buffer = []\n",
    "    print(buffer)\n",
    "    for item in myArr:\n",
    "        buffer.append(item)\n",
    "        buffer.reverse()\n",
    "        print('--------------------------')\n",
    "        print('buffer', buffer)\n",
    "        for n in buffer:\n",
    "            print('comparison operator:',buffer[0])\n",
    "            print('len(buffer)',len(buffer))\n",
    "            print('len(result)',len(result))\n",
    "            print('len(result+1)',len(result)+1)\n",
    "\n",
    "            if buffer[0] > n:\n",
    "                result.append(n)\n",
    "                print('found smaller')\n",
    "                print('T len(result)',len(result))\n",
    "            elif len(buffer) == len(result)+1 and buffer[0] <= n:\n",
    "                result.append(-1)\n",
    "                print('RESULT:',result)\n",
    "    print('RESULT:',result)\n",
    "    return result\n",
    "    \n",
    "myArr=[1,2]        \n",
    "arrayPrevLess(myArr)\n"
   ]
  },
  {
   "cell_type": "code",
   "execution_count": 55,
   "metadata": {},
   "outputs": [
    {
     "output_type": "stream",
     "name": "stdout",
     "text": [
      "imput: [1, 2, 3]\nExpected: [-1,1,2,3]\n[]\n--------------------------\nbuffer [1]\n--------------------------\nbuffer [2, 1]\nUpdated result: n: 1\n--------------------------\nbuffer [3, 1, 2]\nUpdated result: n: 1\n"
     ]
    },
    {
     "output_type": "execute_result",
     "data": {
      "text/plain": [
       "[-1, 1, 1]"
      ]
     },
     "metadata": {},
     "execution_count": 55
    }
   ],
   "source": [
    "def arrayPrevLess(myArr):\n",
    "    result = []\n",
    "    buffer = []\n",
    "    print(buffer)\n",
    "    for item in myArr:\n",
    "        buffer.append(item)\n",
    "        buffer.reverse()\n",
    "        print('--------------------------')\n",
    "        print('buffer', buffer)\n",
    "        for n in buffer:\n",
    "            if buffer[0] > n:\n",
    "                print('Updated result:', 'n:',n)\n",
    "                result.append(n)\n",
    "                break\n",
    "            elif buffer[-1] == n and len(result) < len(buffer):\n",
    "                result.append(-1)\n",
    "                break\n",
    "\n",
    "    return result\n",
    "    \n",
    "myArr=[1,2,3]  \n",
    "print('imput:', myArr)      \n",
    "print('Expected:', '[-1,1,2,3]')      \n",
    "arrayPrevLess(myArr)\n"
   ]
  },
  {
   "cell_type": "code",
   "execution_count": null,
   "metadata": {},
   "outputs": [],
   "source": []
  }
 ]
}