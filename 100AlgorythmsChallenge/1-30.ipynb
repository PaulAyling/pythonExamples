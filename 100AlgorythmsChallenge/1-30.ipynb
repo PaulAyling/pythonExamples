{
 "metadata": {
  "language_info": {
   "codemirror_mode": {
    "name": "ipython",
    "version": 3
   },
   "file_extension": ".py",
   "mimetype": "text/x-python",
   "name": "python",
   "nbconvert_exporter": "python",
   "pygments_lexer": "ipython3",
   "version": "3.8.5"
  },
  "orig_nbformat": 2,
  "kernelspec": {
   "name": "python3",
   "display_name": "Python 3.8.5 64-bit",
   "metadata": {
    "interpreter": {
     "hash": "15ed2ef4f556d75dd1bb7019e7b9b22e3a5d11b308a4f690ac640aaffb821b72"
    }
   }
  }
 },
 "nbformat": 4,
 "nbformat_minor": 2,
 "cells": [
  {
   "cell_type": "code",
   "execution_count": 2,
   "metadata": {},
   "outputs": [
    {
     "output_type": "stream",
     "name": "stdout",
     "text": [
      "currDiff 17\nmaxDiff 17\ncurrDiff 3\nmaxDiff 17\ncurrDiff 5\nmaxDiff 17\ncurrDiff 98\nmaxDiff 17\nMAX DIFF: 98\n"
     ]
    }
   ],
   "source": [
    "# https://www.udemy.com/course/100-algorithms-challenge/learn/lecture/10514558?start=0#overview\n",
    "# 25. Array Maximal Adjacent Difference\n",
    "\n",
    "myArr=[20,3,6,1]\n",
    "def absMaxDiff(myArr):\n",
    "    maxDiff = abs(myArr[0]-myArr[1])\n",
    "    for n in range(len(myArr)-1):\n",
    "        currDiff = abs(myArr[n]-myArr[n+1])\n",
    "        print('currDiff', currDiff)\n",
    "        print('maxDiff', maxDiff)\n",
    "        if currDiff > maxDiff:\n",
    "            maxDiff = currDiff\n",
    "    return maxDiff\n",
    "\n",
    "\n",
    "myArr=[20,3,6,1,99]\n",
    "print('MAX DIFF:', absMaxDiff(myArr))"
   ]
  },
  {
   "cell_type": "code",
   "execution_count": null,
   "metadata": {},
   "outputs": [],
   "source": []
  },
  {
   "cell_type": "code",
   "execution_count": 57,
   "metadata": {},
   "outputs": [
    {
     "output_type": "stream",
     "name": "stdout",
     "text": [
      "imput: [1, 2, 3, 4]\nExpected: [-1,1,2,3]\n[]\n--------------------------\nbuffer [1]\n--------------------------\nbuffer [2, 1]\nUpdated result: n: 1\n--------------------------\nbuffer [3, 2, 1]\nUpdated result: n: 2\n--------------------------\nbuffer [4, 3, 2, 1]\nUpdated result: n: 3\n"
     ]
    },
    {
     "output_type": "execute_result",
     "data": {
      "text/plain": [
       "[-1, 1, 2, 3]"
      ]
     },
     "metadata": {},
     "execution_count": 57
    }
   ],
   "source": [
    "#26 Array Previous lless\n",
    "#example \n",
    "#   inputArr =  [3,  5, 3, 4, 5 ] \n",
    "#   result =    [-1, 3,-1, 2, 4 ]\n",
    "\n",
    "# pos 2\n",
    "# value at pos2 = 3\n",
    "# find the first value from left that has less and populate it in the result\n",
    "\n",
    "def arrayPrevLess(myArr):\n",
    "    result = []\n",
    "    buffer = []\n",
    "    print(buffer)\n",
    "    for item in myArr:\n",
    "        buffer.reverse()\n",
    "        buffer.append(item)\n",
    "        buffer.reverse()\n",
    "        print('--------------------------')\n",
    "        print('buffer', buffer)\n",
    "        for n in buffer:\n",
    "            if buffer[0] > n:\n",
    "                print('Updated result:', 'n:',n)\n",
    "\n",
    "                result.append(n)\n",
    "                \n",
    "                break\n",
    "            elif buffer[-1] == n and len(result) < len(buffer):\n",
    "                result.append(-1)\n",
    "                break\n",
    "\n",
    "    return result\n",
    "    \n",
    "myArr=[1,2,3,4]  \n",
    "print('imput:', myArr)      \n",
    "print('Expected:', '[-1,1,2,3]')      \n",
    "arrayPrevLess(myArr)\n"
   ]
  },
  {
   "cell_type": "code",
   "execution_count": 7,
   "metadata": {},
   "outputs": [
    {
     "output_type": "stream",
     "name": "stdout",
     "text": [
      "[1, 9, 4, 9, 5, 9]\n"
     ]
    }
   ],
   "source": [
    "# 27 Array Replace\n",
    "def makeSubstition(n):\n",
    "    if n == elmToReplace:\n",
    "        return substitution\n",
    "    else:\n",
    "        return n\n",
    "\n",
    "def arrayReplace(myArray,elmToReplace,substitution):\n",
    "    result = map(makeSubstition,myArray)\n",
    "    return result\n",
    "myArray = [1,3,4,3,5,3]\n",
    "elmToReplace = 3\n",
    "substitution = 9\n",
    "print(list(arrayReplace(myArray,elmToReplace,substitution)))"
   ]
  },
  {
   "cell_type": "code",
   "execution_count": 14,
   "metadata": {},
   "outputs": [
    {
     "output_type": "stream",
     "name": "stdout",
     "text": [
      "1\n4\n9\n"
     ]
    }
   ],
   "source": [
    "def perfect_square():\n",
    "    num = 1\n",
    "    while(num <= 10):\n",
    "        yield (num * num)\n",
    "        num += 1\n",
    "square = perfect_square()\n",
    "print(next(square))\n",
    "print(next(square))\n",
    "print(next(square))"
   ]
  },
  {
   "cell_type": "code",
   "execution_count": 32,
   "metadata": {},
   "outputs": [
    {
     "output_type": "stream",
     "name": "stdout",
     "text": [
      "0\n1\n2\n"
     ]
    }
   ],
   "source": [
    "#28 Avoid Obsticals\n",
    "# for a given array\n",
    "# find the min jumo length to jump all obsticals\n",
    "\n",
    "\n",
    "\n",
    "def generateJumps(n):\n",
    "    num = 1\n",
    "    while(num <= 1000):\n",
    "        yield num*n\n",
    "        num += 1\n",
    "\n",
    "def minJump(myArray):\n",
    "    # sort myArray\n",
    "    sorted(myArray)\n",
    "    for n in range(len(myArray)):\n",
    "        print(n)\n",
    "        if n != myArray[n]:\n",
    "            \n",
    "\n",
    "           \n",
    "        \n",
    "\n",
    "sequenceItems = generateJumps(1)\n",
    "# print(next(sequenceItems))\n",
    "# print(next(sequenceItems))\n",
    "# print(next(sequenceItems))\n",
    "\n",
    "myArray = [2,4,6]# [1,3,5] = 2\n",
    "#myArray=[2,3,6]# [1,4,8] = 4\n",
    "minJump(myArray)"
   ]
  },
  {
   "cell_type": "code",
   "execution_count": 58,
   "metadata": {},
   "outputs": [
    {
     "output_type": "stream",
     "name": "stdout",
     "text": [
      "[2, 4, 6]\n[0, 0, 2, 0, 4, 0, 6]\n"
     ]
    }
   ],
   "source": [
    "def createLineWithGaps(myArray):\n",
    "    fullLine = []\n",
    "    for n in range(myArray[-1]+1):\n",
    "        if n in myArray:\n",
    "            fullLine.append(n)\n",
    "        else:\n",
    "            fullLine.append(0)\n",
    "    return fullLine\n",
    "\n",
    "# def minHop(myArray):\n",
    "#     arrSorted = sorted(myArray)\n",
    "#     line_with_gaps = ()\n",
    "#     print('len',len(myArray))\n",
    "#     for item in range(myArray):\n",
    "#         print('item:',item)\n",
    "#         result = map(goodHops,myArray)\n",
    "#         print(list(result))\n",
    "myArray = [2,4,6]\n",
    "# minHop(myArray)\n",
    "print(myArray)\n",
    "print(createLineWithGaps(myArray))\n",
    "\n",
    "2 != 2\n",
    "2 != 2 + 2\n",
    "2 != 2 + 2 + 2\n"
   ]
  },
  {
   "cell_type": "code",
   "execution_count": 61,
   "metadata": {},
   "outputs": [
    {
     "output_type": "stream",
     "name": "stdout",
     "text": [
      "[1, 2, 6, 7, 8]\n"
     ]
    }
   ],
   "source": [
    "def removeArrayPart(inputArray, l, r):\n",
    "    del inputArray[l:r]\n",
    "    print(inputArray)\n",
    "inputArray = [1,2,3,4,5,6,7,8]\n",
    "l=2\n",
    "r=5\n",
    "removeArrayPart(inputArray, l, r)"
   ]
  },
  {
   "cell_type": "code",
   "execution_count": 93,
   "metadata": {},
   "outputs": [],
   "source": [
    "def replaceMiddle(arr):\n",
    "    # get middle\n",
    "    def arrIsOdd(arr):\n",
    "        if len(arr) % 2 == 0:\n",
    "            return False\n",
    "        else:\n",
    "            return True\n",
    "    def returnMiddle(arr):\n",
    "        if arrIsOdd(arr):\n",
    "            print(arr)\n",
    "            return arr\n",
    "        else:\n",
    "            print('Even')\n",
    "            mid_pos1 = int(len(arr)/2)-1\n",
    "            mid_pos2 = int(len(arr)/2)\n",
    "            middle = [arr[mid_pos1] +arr[mid_pos2]]\n",
    "            result = arr[:mid_pos1] + middle + arr[mid_pos2+1:]  \n",
    "            print(result )        \n",
    "    return returnMiddle(arr)\n",
    "    "
   ]
  },
  {
   "cell_type": "code",
   "execution_count": 95,
   "metadata": {},
   "outputs": [
    {
     "output_type": "stream",
     "name": "stdout",
     "text": [
      "[1, 2, 3]\n"
     ]
    }
   ],
   "source": [
    "arr = [1,2,3]\n",
    "replaceMiddle(arr)"
   ]
  },
  {
   "cell_type": "code",
   "execution_count": null,
   "metadata": {},
   "outputs": [],
   "source": []
  }
 ]
}