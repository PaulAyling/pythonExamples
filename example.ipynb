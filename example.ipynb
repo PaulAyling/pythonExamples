{
 "metadata": {
  "language_info": {
   "codemirror_mode": {
    "name": "ipython",
    "version": 3
   },
   "file_extension": ".py",
   "mimetype": "text/x-python",
   "name": "python",
   "nbconvert_exporter": "python",
   "pygments_lexer": "ipython3",
   "version": "3.8.5"
  },
  "orig_nbformat": 2,
  "kernelspec": {
   "name": "python385jvsc74a57bd0dca0ade3e726a953b501b15e8e990130d2b7799f14cfd9f4271676035ebe5511",
   "display_name": "Python 3.8.5 64-bit ('base': conda)"
  }
 },
 "nbformat": 4,
 "nbformat_minor": 2,
 "cells": [
  {
   "cell_type": "code",
   "execution_count": 1,
   "metadata": {},
   "outputs": [],
   "source": [
    "def arrayMaxConsecutiveSum(inputArray, k):\n",
    "    print('Array-length: ',len(inputArray))\n",
    "    result = 0\n",
    "    print('hello')\n",
    "    for n in range(len(inputArray)-k +1):\n",
    "        current_sum = 0\n",
    "        for kn in range(k):\n",
    "            current_sum = current_sum + inputArray[n+kn]\n",
    "            #print('for n:',n,'at kn:',kn,'currentSum:',current_sum)\n",
    "        if current_sum > result:\n",
    "            result = current_sum\n",
    "        else:\n",
    "            print('broken from the program here')\n",
    "            pass\n",
    "    return result"
   ]
  },
  {
   "cell_type": "code",
   "execution_count": 24,
   "metadata": {},
   "outputs": [
    {
     "output_type": "stream",
     "name": "stdout",
     "text": [
      "50417\n"
     ]
    }
   ],
   "source": [
    "inputArray = [768, 77, 755, 960, 747, 25, 107, 520, 995, 404, 43, 714, 632, 642, 493, 352, 450, 625, 262, 217, 254, 55, 661, 822, 562, 187, 603, 216, 275, 76, 75, 417, 350, 942, 1000, 232, 887, 173, 858, 116, 75, 170, 529, 26, 62, 378, 667, 444, 240, 325, 444, 391, 698, 282, 870, 611, 974, 388, 586, 616, 845, 591, 525, 976, 938, 673, 413, 862, 396, 856, 764, 415, 309, 27, 583, 630, 741, 988, 456, 807, 242, 624, 149, 524, 962, 960, 900, 199, 645, 36, 343, 943, 232, 781, 445, 670, 177, 889, 57, 519]\n",
    "\n",
    "k = 250\n",
    "# k = 250 (test)\n",
    "print(arrayMaxConsecutiveSum(inputArray, k))"
   ]
  },
  {
   "cell_type": "code",
   "execution_count": 22,
   "metadata": {},
   "outputs": [],
   "source": [
    "# 1. create a buffer of lenght k\n",
    "# 2. loop inputArray for each item \n",
    "#      2.1 add to buffer and remove the first item in the buffer (so it moves along)\n",
    "#      2.2 sum buffer\n",
    "#      2.3 add sum of buffer to result array\n",
    "# 3. return max(result)  \n",
    "\n",
    "def arrayMaxConsecutiveSum(inputArray, k):\n",
    "    buffer = inputArray[:k]\n",
    "    result = []\n",
    "    current_sum = sum(buffer)\n",
    "    result.append(current_sum)\n",
    "    for i in inputArray:\n",
    "        buffer.append(i)\n",
    "        current_sum += buffer[-1] - buffer[0]\n",
    "        result.append(current_sum)\n",
    "        buffer.pop(0)\n",
    "    return max(result)\n"
   ]
  },
  {
   "cell_type": "code",
   "execution_count": 11,
   "metadata": {},
   "outputs": [
    {
     "output_type": "stream",
     "name": "stdout",
     "text": [
      "[1, 2, 3, 4]\n"
     ]
    }
   ],
   "source": [
    "myArr = [1,2,3,4,5,6,7,8,9]\n",
    "print(myArr[:4])"
   ]
  },
  {
   "cell_type": "code",
   "execution_count": null,
   "metadata": {},
   "outputs": [],
   "source": []
  },
  {
   "cell_type": "code",
   "execution_count": 28,
   "metadata": {},
   "outputs": [
    {
     "output_type": "stream",
     "name": "stdout",
     "text": [
      "40\n"
     ]
    }
   ],
   "source": [
    "def firstDuplicate(a):\n",
    "    seen = set()\n",
    "    for i in a:\n",
    "        if i in seen:\n",
    "            return i\n",
    "        seen.add(i)\n",
    "    return -1\n",
    "\n",
    "\n"
   ]
  },
  {
   "cell_type": "code",
   "execution_count": 31,
   "metadata": {},
   "outputs": [],
   "source": [
    "def firstNotRepeatingCharacter(s):\n",
    "    print('s',s)\n",
    "    repeatChars = set()\n",
    "    for i in s:\n",
    "        \n",
    "        if i in s:\n",
    "            repeatChars.add(i)\n",
    "    print('repeatChars',repeatChars)\n",
    "    for i in  repeatChars:\n",
    "        if i in a:\n",
    "            s.remove(i) \n",
    "    print('s',s)"
   ]
  },
  {
   "cell_type": "code",
   "execution_count": 32,
   "metadata": {},
   "outputs": [
    {
     "output_type": "stream",
     "name": "stdout",
     "text": [
      "s [0, 20, 10, 40, 30, 40, 30]\nrepeatChars {0, 40, 10, 20, 30}\ns [40, 30]\nNone\n"
     ]
    }
   ],
   "source": [
    "a = [0,20,10,40,30,40,30]\n",
    "print(firstNotRepeatingCharacter(a))"
   ]
  },
  {
   "cell_type": "code",
   "execution_count": null,
   "metadata": {},
   "outputs": [],
   "source": [
    "from collections import Counter\n",
    "\n",
    "def firstNotRepeatingCharacter(s):   \n",
    "    c = Counter(s)\n",
    "    for i in s:\n",
    "        if c[i] == 1:\n",
    "            return i\n",
    "    return '_'"
   ]
  },
  {
   "cell_type": "code",
   "execution_count": 37,
   "metadata": {},
   "outputs": [
    {
     "output_type": "stream",
     "name": "stdout",
     "text": [
      "Initial : Counter()\nSequence: Counter({'x': 1, 'y': 1, 'z': 1})\nDict    : Counter({'z': 6, 'x': 2, 'y': 1})\n"
     ]
    }
   ],
   "source": [
    "import collections\n",
    "\n",
    "c = collections.Counter()\n",
    "print('Initial :', c)\n",
    "\n",
    "c.update('xyz')\n",
    "print('Sequence:', c)\n",
    "\n",
    "c.update({'x':1, 'z':5})\n",
    "print('Dict    :', c)"
   ]
  },
  {
   "cell_type": "code",
   "execution_count": 45,
   "metadata": {},
   "outputs": [
    {
     "output_type": "stream",
     "name": "stdout",
     "text": [
      "currDiff 17\nmaxDiff 17\ncurrDiff 3\nmaxDiff 17\ncurrDiff 5\nmaxDiff 17\nMAX DIFF: 17\n"
     ]
    }
   ],
   "source": [
    "myArr=[20,3,6,1]\n",
    "def absMaxDiff(myArr):\n",
    "    maxDiff = abs(myArr[0]-myArr[1])\n",
    "    for n in range(len(myArr)-1):\n",
    "        currDiff = abs(myArr[n]-myArr[n+1])\n",
    "        print('currDiff', currDiff)\n",
    "        print('maxDiff', maxDiff)\n",
    "        if currDiff > maxDiff:\n",
    "            maxDiff = currDiff\n",
    "    return maxDiff\n",
    "\n",
    "print('MAX DIFF:', absMaxDiff(myArr))\n",
    "\n"
   ]
  },
  {
   "cell_type": "code",
   "execution_count": null,
   "metadata": {},
   "outputs": [],
   "source": []
  }
 ]
}