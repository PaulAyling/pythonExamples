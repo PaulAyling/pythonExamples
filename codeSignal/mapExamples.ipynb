{
 "metadata": {
  "language_info": {
   "codemirror_mode": {
    "name": "ipython",
    "version": 3
   },
   "file_extension": ".py",
   "mimetype": "text/x-python",
   "name": "python",
   "nbconvert_exporter": "python",
   "pygments_lexer": "ipython3",
   "version": "3.8.5"
  },
  "orig_nbformat": 2,
  "kernelspec": {
   "name": "python385jvsc74a57bd0dca0ade3e726a953b501b15e8e990130d2b7799f14cfd9f4271676035ebe5511",
   "display_name": "Python 3.8.5 64-bit ('base': conda)"
  }
 },
 "nbformat": 4,
 "nbformat_minor": 2,
 "cells": [
  {
   "cell_type": "code",
   "execution_count": 20,
   "metadata": {},
   "outputs": [
    {
     "output_type": "stream",
     "name": "stdout",
     "text": [
      "[2, 4, 6, 8]\n"
     ]
    }
   ],
   "source": [
    "# Python program to demonstrate working\n",
    "# of map.\n",
    "  \n",
    "# Return double of n\n",
    "def addition(n):\n",
    "    return n + n\n",
    "  \n",
    "# We double all numbers using map()\n",
    "numbers = (1, 2, 3, 4)\n",
    "result = map(addition, numbers)\n",
    "print(list(result))"
   ]
  },
  {
   "cell_type": "code",
   "execution_count": 21,
   "metadata": {},
   "outputs": [
    {
     "output_type": "stream",
     "name": "stdout",
     "text": [
      "2\n"
     ]
    }
   ],
   "source": [
    "# USING LOOP\n",
    "def firstDigit(inputString):\n",
    "    digits = ('1','2','3','4','5','6','7','8','9','0')\n",
    "    # loop through string if digit then retun it\n",
    "    for item in inputString:\n",
    "        for d in digits:\n",
    "            if item == d:\n",
    "                return d\n",
    "\n",
    "inputString = 'q2q-q'\n",
    "print(firstDigit(inputString))"
   ]
  },
  {
   "cell_type": "code",
   "execution_count": 35,
   "metadata": {},
   "outputs": [
    {
     "output_type": "execute_result",
     "data": {
      "text/plain": [
       "'2'"
      ]
     },
     "metadata": {},
     "execution_count": 35
    }
   ],
   "source": [
    "# USING MAP & FILTER\n",
    "def isDigit(cha):\n",
    "    digits = ('1','2','3','4','5','6','7','8','9','0')\n",
    "    if cha in digits:\n",
    "        return cha\n",
    "def findDigit(cha):\n",
    "    if cha != None:\n",
    "        return True\n",
    "def firstDigit(inputString):\n",
    "    mappedList = map(isDigit,inputString)\n",
    "    resultList = list(mappedList)\n",
    "    result = filter(findDigit,resultList)\n",
    "    return list(result)[0]\n",
    "\n",
    "\n",
    "inputString = 'q2q-q5'\n",
    "firstDigit(inputString)"
   ]
  },
  {
   "cell_type": "code",
   "execution_count": null,
   "metadata": {},
   "outputs": [],
   "source": [
    "# USING FILTER\n",
    "def isDigit(cha):\n",
    "    digits = ('1','2','3','4','5','6','7','8','9','0')\n",
    "    if cha in digits:\n",
    "        return True\n",
    "def firstDigit(inputString):\n",
    "    result = filter(isDigit,inputString)\n",
    "    return list(result)[0]\n",
    "\n",
    "\n",
    "inputString = 'q2q-q5'\n",
    "firstDigit(inputString)"
   ]
  },
  {
   "cell_type": "code",
   "execution_count": null,
   "metadata": {},
   "outputs": [],
   "source": [
    "# USING FILTER & LAMBDA FUNCTION\n",
    "# ??\n",
    "\n"
   ]
  },
  {
   "cell_type": "code",
   "execution_count": 52,
   "metadata": {},
   "outputs": [
    {
     "output_type": "execute_result",
     "data": {
      "text/plain": [
       "'7'"
      ]
     },
     "metadata": {},
     "execution_count": 52
    }
   ],
   "source": [
    "# USING MAP\n",
    "def isDigit(cha):\n",
    "    digits = ('1','2','3','4','5','6','7','8','9','0')\n",
    "    if cha in digits:\n",
    "        return True\n",
    "for item in map(isDigit,inputString):\n",
    "    if item == True:\n",
    "        break\n",
    "\n",
    "inputString = 'q7q-q5'\n",
    "firstDigit(inputString)"
   ]
  },
  {
   "cell_type": "code",
   "execution_count": null,
   "metadata": {},
   "outputs": [],
   "source": [
    "# USING REDUCE\n"
   ]
  }
 ]
}