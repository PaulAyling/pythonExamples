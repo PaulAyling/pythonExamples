{
 "metadata": {
  "language_info": {
   "codemirror_mode": {
    "name": "ipython",
    "version": 3
   },
   "file_extension": ".py",
   "mimetype": "text/x-python",
   "name": "python",
   "nbconvert_exporter": "python",
   "pygments_lexer": "ipython3",
   "version": "3.8.5"
  },
  "orig_nbformat": 2,
  "kernelspec": {
   "name": "python3",
   "display_name": "Python 3.8.5 64-bit",
   "metadata": {
    "interpreter": {
     "hash": "15ed2ef4f556d75dd1bb7019e7b9b22e3a5d11b308a4f690ac640aaffb821b72"
    }
   }
  }
 },
 "nbformat": 4,
 "nbformat_minor": 2,
 "cells": [
  {
   "cell_type": "code",
   "execution_count": 12,
   "metadata": {},
   "outputs": [
    {
     "output_type": "stream",
     "name": "stdout",
     "text": [
      "5\n2\n---------\ndifference 3\n2\n3\n4\n5\n"
     ]
    }
   ],
   "source": [
    "def countSumOfTwoRepresentations2(n, l, r):\n",
    "    # find number of ways to represent n using l and r\n",
    "    m_min = min(l,r)\n",
    "    m_max = max(l,r)\n",
    "    print(m_max)\n",
    "    print(m_min)\n",
    "    print('---------')\n",
    "\n",
    "    if m_max + m_min < n:\n",
    "        print('too small')\n",
    "        return 0\n",
    "\n",
    "    difference = n - (m_max - m_min)   \n",
    "    print('difference',difference)\n",
    "\n",
    "    for n in range(m_min,m_max+1):\n",
    "        print(n)\n",
    "        \n",
    "\n",
    "\n",
    "n = 6\n",
    "l = 5\n",
    "r = 2  \n",
    "\n",
    "countSumOfTwoRepresentations2(n, l, r)\n"
   ]
  },
  {
   "cell_type": "code",
   "execution_count": null,
   "metadata": {},
   "outputs": [],
   "source": [
    "# n = 6\n",
    "# l = 2\n",
    "# r = 4  \n",
    "\n",
    "# n       6\n",
    "# l       2\n",
    "# r       4   \n",
    "# ans     2  2+4 & 3+3\n",
    "\n",
    "# n: 24\n",
    "# l: 12\n",
    "# r: 12\n",
    "# =: 1      12 + 12\n",
    "\n",
    "# n: 6\n",
    "# l: 3\n",
    "# r: 3\n",
    "# =: 1      3+3\n",
    "\n",
    "# n: 10\n",
    "# l: 3\n",
    "# r: 9\n",
    "# =: 1      9+1 8+"
   ]
  },
  {
   "cell_type": "code",
   "execution_count": 14,
   "metadata": {},
   "outputs": [
    {
     "output_type": "execute_result",
     "data": {
      "text/plain": [
       "2"
      ]
     },
     "metadata": {},
     "execution_count": 14
    }
   ],
   "source": [
    "def countSumOfTwoRepresentations2(n, l, r):\n",
    "    # // gives a rounded interger as the result to div\n",
    "    temp = 0\n",
    "    if l <= n//2 <= r:\n",
    "        if n%2 == 0:\n",
    "            return min([(n//2-l)+1,(r-n//2)+1])\n",
    "        else:\n",
    "            return min([(n//2-l),(r-n//2)])\n",
    "    else:\n",
    "        return 0\n",
    "\n",
    "n = 6\n",
    "l = 2\n",
    "r = 4  \n",
    "\n",
    "countSumOfTwoRepresentations2(n, l, r)"
   ]
  },
  {
   "cell_type": "code",
   "execution_count": 24,
   "metadata": {},
   "outputs": [
    {
     "output_type": "stream",
     "name": "stdout",
     "text": [
      "2\n"
     ]
    }
   ],
   "source": [
    "print(12//5)"
   ]
  },
  {
   "cell_type": "code",
   "execution_count": null,
   "metadata": {},
   "outputs": [],
   "source": []
  }
 ]
}