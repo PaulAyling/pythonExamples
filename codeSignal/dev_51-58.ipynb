{
 "metadata": {
  "language_info": {
   "codemirror_mode": {
    "name": "ipython",
    "version": 3
   },
   "file_extension": ".py",
   "mimetype": "text/x-python",
   "name": "python",
   "nbconvert_exporter": "python",
   "pygments_lexer": "ipython3",
   "version": "3.8.5"
  },
  "orig_nbformat": 2,
  "kernelspec": {
   "name": "python3",
   "display_name": "Python 3.8.5 64-bit ('base': conda)",
   "metadata": {
    "interpreter": {
     "hash": "a8ed6b6aaa83e0c75564d8643a7111be6f47b679c5d32737ff20a5a7a3944855"
    }
   }
  }
 },
 "nbformat": 4,
 "nbformat_minor": 2,
 "cells": [
  {
   "cell_type": "code",
   "execution_count": null,
   "metadata": {},
   "outputs": [],
   "source": [
    "def isMAC48Address(inputString):\n",
    "    \n",
    "# It must contain 12 hexadecimal digits.\n",
    "# One way to represent them is to form six pairs of the characters separated with a hyphen (-) or colon(:). For example, 01-23-45-67-89-AB is a valid MAC address.\n",
    "# Another way to represent them is to form three groups of four hexadecimal digits separated by dots(.). For example, 0123.4567.89AB is a valid MAC address.\n",
    "    \n",
    "    def stringIsHex(s):\n",
    "        for ch in s:\n",
    "            if ((ch < '0' or ch > '9') and\n",
    "                (ch < 'A' or ch > 'F')):\n",
    "                return False\n",
    "        return True\n",
    "    \n",
    "    def validEnds(string):\n",
    "        start = string[0]\n",
    "        end = string[-1]\n",
    "        if stringIsHex(start + end):\n",
    "            return True\n",
    "        else:\n",
    "            return False\n",
    "        \n",
    "    def checkIfMac(string, char):\n",
    "        if inputString.find(char) != -1:\n",
    "            removedSpacers = inputString.replace(char, '')\n",
    "            if len(removedSpacers) == 12 and stringIsHex(removedSpacers) == True and validEnds(inputString) == True:\n",
    "                return True\n",
    "            else:\n",
    "                return False \n",
    "        else:\n",
    "            return False # mac need spacers to be valid\n",
    "    if inputString.find('.') != -1 and  inputString.find('-'):\n",
    "        return False\n",
    "\n",
    "    #PROGRAM\n",
    "    if len(inputString) != 17:\n",
    "        return False\n",
    "    if inputString.find('-') != -1:\n",
    "        return checkIfMac(string, '-')\n",
    "    elif inputString.find('.') != -1:\n",
    "        return checkIfMac(string, '.')\n",
    "    else:\n",
    "        return False\n",
    "                "
   ]
  },
  {
   "cell_type": "code",
   "execution_count": null,
   "metadata": {},
   "outputs": [],
   "source": [
    "a_string = \"1 2 3\"\n",
    "a_list = a_string.split()\n",
    "map_object = map(int, a_list)\n",
    "\n",
    "list_of_integers = list(map_object)\n",
    "print(list_of_integers)"
   ]
  },
  {
   "cell_type": "code",
   "execution_count": 10,
   "metadata": {
    "tags": []
   },
   "outputs": [
    {
     "output_type": "stream",
     "name": "stdout",
     "text": [
      "curList: [5]\n0\n"
     ]
    }
   ],
   "source": [
    "#digitdecree\n",
    "def digitDegree(n):\n",
    "    def createList(n):\n",
    "        myString = str(n)\n",
    "        myList = list(myString)\n",
    "        map_object = map(int, myList)       \n",
    "        return list(map_object)\n",
    "\n",
    "    def createCurSum(myList):\n",
    "        listSum = 0\n",
    "        for n in range(len(myList)):\n",
    "            print(n)\n",
    "            listSum = listSum + myList[n]\n",
    "        print('----------')\n",
    "        return listSum\n",
    "\n",
    "    def getCount(currentInt):\n",
    "        curList = createList(myInt)\n",
    "        print('curList:',curList)\n",
    "        iteration_count = 0\n",
    "        while len(curList) > 1:\n",
    "            curSum = createCurSum(curList)\n",
    "            curList = createList(curSum)\n",
    "            iteration_count += 1\n",
    "            print('iteration_count', iteration_count)\n",
    "            print('after while: curList',curList)\n",
    "            print('length of list:', len(curList))\n",
    "        return iteration_count\n",
    "    \n",
    "    return getCount(n)\n",
    "    \n",
    "n = 5\n",
    "print(digitDegree(n))\n",
    "\n"
   ]
  },
  {
   "cell_type": "code",
   "execution_count": 85,
   "metadata": {},
   "outputs": [],
   "source": [
    "# is mac addres\n",
    "# It must contain 12 hexadecimal digits.\n",
    "# One way to represent them is to form six pairs of the characters separated with a hyphen (-) or colon(:). For example, 01-23-45-67-89-AB is a valid MAC address.\n",
    "# Another way to represent them is to form three groups of four hexadecimal digits separated by dots(.). For example, 0123.4567.89AB is a valid MAC address.\n",
    "\n",
    "def isMAC48Address(inputString):\n",
    "    def stringIsHex(s):\n",
    "        for ch in s:\n",
    "            if ((ch < '0' or ch > '9') and\n",
    "                (ch < 'A' or ch > 'F')):\n",
    "                print('Invalid hex')\n",
    "                return False\n",
    "        print('String Is a valid Hex')\n",
    "        return True\n",
    "    \n",
    "    def validEnds(string):\n",
    "        start = string[0]\n",
    "        end = string[-1]\n",
    "        if stringIsHex(start + end):\n",
    "            print('String has valid ends')\n",
    "            return True\n",
    "        else:\n",
    "            print('invalid ends')\n",
    "            return False\n",
    "\n",
    " \n",
    "    def intervalBetweenChars(inputString,char):\n",
    "        #find the interval between the first two given chars in a string\n",
    "        pos1 = inputString.find(char) + 1\n",
    "        restOfString = inputString[pos1:]\n",
    "        if char in restOfString:\n",
    "                pos2 = restOfString.find(char)\n",
    "                # print('Interval between Chars:',pos2,'for char:',char, 'for string:',inputString )\n",
    "                return pos2\n",
    "        else:\n",
    "            print('invalid chars')\n",
    "            return 0\n",
    "    def intervalIsCorrect(char,interval):\n",
    "        print('arg:char',char)\n",
    "        print('arg:interval',interval)\n",
    "        if char == '-':\n",
    "            if interval == 2:\n",
    "                return True\n",
    "            else:\n",
    "                return False\n",
    "        elif char == '.':\n",
    "            if interval == 5:\n",
    "                return True\n",
    "            else:\n",
    "                return False\n",
    "        else:\n",
    "            return 'invalid char provided in arg'\n",
    "    def delimetersAreCorrectlySpaced(char,inputString):\n",
    "        interval = intervalBetweenChars(inputString,char)\n",
    "        print('Interval is correct:',intervalIsCorrect(char,interval))\n",
    "        return intervalIsCorrect(char,interval)\n",
    "\n",
    "\n",
    "    def checkIfMac(string, char):\n",
    "        removedSpacers = inputString.replace(char, '')\n",
    "        if len(removedSpacers) == 12 and stringIsHex(removedSpacers) == True and validEnds(inputString) == True:\n",
    "            return True\n",
    "        else:\n",
    "            return False    \n",
    "    #Program\n",
    "    # print('inputString',inputString)\n",
    "    if inputString.find('.') != -1 and  inputString.find('-'):\n",
    "        print('1')\n",
    "        return False\n",
    "    if inputString.find('-') != -1 and delimetersAreCorrectlySpaced('-',inputString):\n",
    "        print('2')\n",
    "        return checkIfMac(inputString, '-')\n",
    "    elif inputString.find('.') != -1 and delimetersAreCorrectlySpaced('.',inputString):\n",
    "        print('3')\n",
    "        return checkIfMac(inputString, '.')\n",
    "    else:\n",
    "        print('4')\n",
    "        return False\n",
    "                \n",
    "    \n"
   ]
  },
  {
   "cell_type": "code",
   "execution_count": 86,
   "metadata": {},
   "outputs": [
    {
     "output_type": "stream",
     "name": "stdout",
     "text": [
      "arg:char -\narg:interval 2\nInterval is correct: True\narg:char -\narg:interval 2\n2\nString Is a valid Hex\nString Is a valid Hex\nString has valid ends\n"
     ]
    },
    {
     "output_type": "execute_result",
     "data": {
      "text/plain": [
       "True"
      ]
     },
     "metadata": {},
     "execution_count": 86
    }
   ],
   "source": [
    "inputString = '00-1B-63-84-45-E6'\n",
    "isMAC48Address(inputString)"
   ]
  },
  {
   "cell_type": "code",
   "execution_count": 87,
   "metadata": {},
   "outputs": [
    {
     "output_type": "execute_result",
     "data": {
      "text/plain": [
       "True"
      ]
     },
     "metadata": {},
     "execution_count": 87
    }
   ],
   "source": [
    "def isMAC48Address(inputString):\n",
    "    if len(inputString)!=17:\n",
    "        return False\n",
    "    \n",
    "    inputStringSplit = inputString.split('-')\n",
    "    \n",
    "    if len(inputStringSplit)!=6:\n",
    "        return False\n",
    "    \n",
    "    for i in range(0,len(inputStringSplit)):\n",
    "        if len(inputStringSplit[i])!=2:\n",
    "            return False\n",
    "        if ((\"0\"<=inputStringSplit[i][0]<=\"9\" or \"A\"<=inputStringSplit[i][0]<=\"F\") and (\"0\"<=inputStringSplit[i][1]<=\"9\" or \"A\"<=inputStringSplit[i][1]<=\"F\")):\n",
    "            return True\n",
    "        else:\n",
    "            return False\n",
    "\n",
    "inputString = '00-1B-63-84-45-E6'\n",
    "isMAC48Address(inputString)"
   ]
  },
  {
   "cell_type": "code",
   "execution_count": null,
   "metadata": {},
   "outputs": [],
   "source": []
  }
 ]
}